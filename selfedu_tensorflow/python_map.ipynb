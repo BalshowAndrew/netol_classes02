{
 "cells": [
  {
   "cell_type": "markdown",
   "id": "a7dbf557",
   "metadata": {},
   "source": [
    "# Функция map"
   ]
  },
  {
   "cell_type": "code",
   "execution_count": 4,
   "id": "4c57ae37",
   "metadata": {},
   "outputs": [
    {
     "data": {
      "text/plain": [
       "<map at 0x7f6a1dd81510>"
      ]
     },
     "execution_count": 4,
     "metadata": {},
     "output_type": "execute_result"
    }
   ],
   "source": [
    "b = map(int, ['1', '2', '3', '5', '7'])\n",
    "b"
   ]
  },
  {
   "cell_type": "markdown",
   "id": "35a43549",
   "metadata": {},
   "source": [
    "На выходе функция `map` возвращает итератор"
   ]
  },
  {
   "cell_type": "code",
   "execution_count": 5,
   "id": "c9c7e419",
   "metadata": {},
   "outputs": [
    {
     "name": "stdout",
     "output_type": "stream",
     "text": [
      "1\n",
      "2\n"
     ]
    }
   ],
   "source": [
    "print(next(b))\n",
    "print(next(b))"
   ]
  },
  {
   "cell_type": "code",
   "execution_count": 8,
   "id": "76d95f6c",
   "metadata": {},
   "outputs": [
    {
     "name": "stdout",
     "output_type": "stream",
     "text": [
      "1 2 3 5 7 "
     ]
    }
   ],
   "source": [
    "b = map(int, ['1', '2', '3', '5', '7'])\n",
    "for x in b:\n",
    "    print(x, end=' ')"
   ]
  },
  {
   "cell_type": "code",
   "execution_count": 9,
   "id": "3f70c6a7",
   "metadata": {},
   "outputs": [
    {
     "name": "stdout",
     "output_type": "stream",
     "text": [
      "[1, 2, 3, 5, 7]\n"
     ]
    }
   ],
   "source": [
    "b = map(int, ['1', '2', '3', '5', '7'])\n",
    "a = list(b)\n",
    "print(a)"
   ]
  },
  {
   "cell_type": "code",
   "execution_count": 11,
   "id": "f2f292dc",
   "metadata": {},
   "outputs": [
    {
     "data": {
      "text/plain": [
       "[1, 2, 3, 5, 7]"
      ]
     },
     "execution_count": 11,
     "metadata": {},
     "output_type": "execute_result"
    }
   ],
   "source": [
    "b = map(int, ['1', '2', '3', '5', '7'])\n",
    "a = [int(x) for x in b]\n",
    "a"
   ]
  },
  {
   "cell_type": "code",
   "execution_count": 13,
   "id": "8f931995",
   "metadata": {},
   "outputs": [
    {
     "data": {
      "text/plain": [
       "<generator object <genexpr> at 0x7f6a1dd5ce40>"
      ]
     },
     "execution_count": 13,
     "metadata": {},
     "output_type": "execute_result"
    }
   ],
   "source": [
    "a = (int(x) for x in ['1', '2', '3', '5', '7'])\n",
    "a"
   ]
  },
  {
   "cell_type": "markdown",
   "id": "ebd346b4",
   "metadata": {},
   "source": [
    "Применение с итератором других функций:"
   ]
  },
  {
   "cell_type": "code",
   "execution_count": 14,
   "id": "22640a6a",
   "metadata": {},
   "outputs": [
    {
     "name": "stdout",
     "output_type": "stream",
     "text": [
      "18\n"
     ]
    }
   ],
   "source": [
    "b = map(int, ['1', '2', '3', '5', '7'])\n",
    "print(sum(b))"
   ]
  },
  {
   "cell_type": "code",
   "execution_count": 15,
   "id": "18b8e52c",
   "metadata": {},
   "outputs": [
    {
     "name": "stdout",
     "output_type": "stream",
     "text": [
      "7\n"
     ]
    }
   ],
   "source": [
    "b = map(int, ['1', '2', '3', '5', '7'])\n",
    "print(max(b))"
   ]
  },
  {
   "cell_type": "code",
   "execution_count": 16,
   "id": "dd88809e",
   "metadata": {},
   "outputs": [
    {
     "name": "stdout",
     "output_type": "stream",
     "text": [
      "[6, 9, 6, 3, 8, 5]\n"
     ]
    }
   ],
   "source": [
    "cities = [\"Москва\", \"Астрахань\", \"Самара\", \"Уфа\", \"Смоленск\", \"Тверь\"]\n",
    "b = map(len, cities)\n",
    "print(list(b))"
   ]
  },
  {
   "cell_type": "code",
   "execution_count": 18,
   "id": "6044ecf7",
   "metadata": {},
   "outputs": [
    {
     "name": "stdout",
     "output_type": "stream",
     "text": [
      "['МОСКВА', 'АСТРАХАНЬ', 'САМАРА', 'УФА', 'СМОЛЕНСК', 'ТВЕРЬ']\n"
     ]
    }
   ],
   "source": [
    "# Использование метода str.upper\n",
    "cities = [\"Москва\", \"Астрахань\", \"Самара\", \"Уфа\", \"Смоленск\", \"Тверь\"]\n",
    "b = map(str.upper, cities)\n",
    "print(list(b))"
   ]
  },
  {
   "cell_type": "code",
   "execution_count": 22,
   "id": "e58ed779",
   "metadata": {},
   "outputs": [
    {
     "name": "stdout",
     "output_type": "stream",
     "text": [
      "['м', 'о', 'с', 'к', 'в', 'а']\n",
      "['а', 'с', 'т', 'р', 'а', 'х', 'а', 'н', 'ь']\n",
      "['с', 'а', 'м', 'а', 'р', 'а']\n",
      "['у', 'ф', 'а']\n",
      "['с', 'м', 'о', 'л', 'е', 'н', 'с', 'к']\n",
      "['т', 'в', 'е', 'р', 'ь']\n"
     ]
    }
   ],
   "source": [
    "b = map(lambda s: list(s.lower()), cities)\n",
    "for i in b:\n",
    "    print(i)"
   ]
  },
  {
   "cell_type": "code",
   "execution_count": 23,
   "id": "11f86ad4",
   "metadata": {},
   "outputs": [
    {
     "name": "stdout",
     "output_type": "stream",
     "text": [
      "москва\n",
      "астрахань\n",
      "самара\n",
      "уфа\n",
      "смоленск\n",
      "тверь\n"
     ]
    }
   ],
   "source": [
    "b = map(lambda s: s.lower(), cities)\n",
    "for i in b:\n",
    "    print(i)"
   ]
  },
  {
   "cell_type": "code",
   "execution_count": 26,
   "id": "a98bf0f8",
   "metadata": {},
   "outputs": [
    {
     "name": "stdout",
     "output_type": "stream",
     "text": [
      "авксом\n",
      "ьнахартса\n",
      "арамас\n",
      "афу\n",
      "кснеломс\n",
      "ьревт\n"
     ]
    }
   ],
   "source": [
    "b = map(lambda s: s[::-1].lower(), cities)\n",
    "for i in b:\n",
    "    print(i)"
   ]
  },
  {
   "cell_type": "code",
   "execution_count": null,
   "id": "7cbf1fe7",
   "metadata": {},
   "outputs": [],
   "source": []
  }
 ],
 "metadata": {
  "kernelspec": {
   "display_name": "new-kernel",
   "language": "python",
   "name": "new-kernel"
  },
  "language_info": {
   "codemirror_mode": {
    "name": "ipython",
    "version": 3
   },
   "file_extension": ".py",
   "mimetype": "text/x-python",
   "name": "python",
   "nbconvert_exporter": "python",
   "pygments_lexer": "ipython3",
   "version": "3.11.11"
  }
 },
 "nbformat": 4,
 "nbformat_minor": 5
}
