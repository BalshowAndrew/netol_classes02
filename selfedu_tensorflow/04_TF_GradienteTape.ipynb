{
 "cells": [
  {
   "cell_type": "markdown",
   "id": "631016ac",
   "metadata": {},
   "source": [
    "# Реализация автоматического дифференцирования"
   ]
  },
  {
   "cell_type": "code",
   "execution_count": null,
   "id": "30730492",
   "metadata": {},
   "outputs": [],
   "source": [
    "import tensorflow as tf\n",
    "import numpy as np"
   ]
  },
  {
   "cell_type": "markdown",
   "id": "dba4e0db",
   "metadata": {},
   "source": [
    "## 01 example"
   ]
  },
  {
   "cell_type": "code",
   "execution_count": 6,
   "id": "eed718c5",
   "metadata": {},
   "outputs": [
    {
     "name": "stdout",
     "output_type": "stream",
     "text": [
      "tf.Tensor(-4.0, shape=(), dtype=float32)\n"
     ]
    }
   ],
   "source": [
    "# создаем переменную\n",
    "x = tf.Variable(-2.0)\n",
    "\n",
    "with tf.GradientTape() as tape:\n",
    "    y = x ** 2\n",
    "\n",
    "df = tape.gradient(y, x)\n",
    "print(df)    "
   ]
  },
  {
   "cell_type": "markdown",
   "id": "98114bbf",
   "metadata": {},
   "source": [
    "## 02 exapmle"
   ]
  },
  {
   "cell_type": "code",
   "execution_count": 7,
   "id": "18863c5b",
   "metadata": {},
   "outputs": [],
   "source": [
    "w = tf.Variable(tf.random.normal((3, 2)))\n",
    "b = tf.Variable(tf.zeros(2, dtype=tf.float32))\n",
    "x = tf.Variable([[-2.0, 1.0, 3.0]])"
   ]
  },
  {
   "cell_type": "code",
   "execution_count": 8,
   "id": "11a4c672",
   "metadata": {},
   "outputs": [
    {
     "data": {
      "text/plain": [
       "<tf.Variable 'Variable:0' shape=(3, 2) dtype=float32, numpy=\n",
       "array([[-0.44925714,  0.5388301 ],\n",
       "       [ 0.58041143, -1.1346376 ],\n",
       "       [ 0.27256304,  0.7375012 ]], dtype=float32)>"
      ]
     },
     "execution_count": 8,
     "metadata": {},
     "output_type": "execute_result"
    }
   ],
   "source": [
    "w"
   ]
  },
  {
   "cell_type": "code",
   "execution_count": 6,
   "id": "9f102a3f",
   "metadata": {},
   "outputs": [
    {
     "data": {
      "text/plain": [
       "<tf.Variable 'Variable:0' shape=(2,) dtype=float32, numpy=array([0., 0.], dtype=float32)>"
      ]
     },
     "execution_count": 6,
     "metadata": {},
     "output_type": "execute_result"
    }
   ],
   "source": [
    "b"
   ]
  },
  {
   "cell_type": "code",
   "execution_count": 7,
   "id": "e3fccdf1",
   "metadata": {},
   "outputs": [
    {
     "data": {
      "text/plain": [
       "<tf.Variable 'Variable:0' shape=(1, 3) dtype=float32, numpy=array([[-2.,  1.,  3.]], dtype=float32)>"
      ]
     },
     "execution_count": 7,
     "metadata": {},
     "output_type": "execute_result"
    }
   ],
   "source": [
    "x"
   ]
  },
  {
   "cell_type": "code",
   "execution_count": 8,
   "id": "0be277ab",
   "metadata": {},
   "outputs": [
    {
     "name": "stdout",
     "output_type": "stream",
     "text": [
      "tf.Tensor(\n",
      "[[ 3.6616445  1.092367 ]\n",
      " [-1.8308222 -0.5461835]\n",
      " [-5.492467  -1.6385505]], shape=(3, 2), dtype=float32)\n",
      "tf.Tensor([-1.8308222 -0.5461835], shape=(2,), dtype=float32)\n"
     ]
    }
   ],
   "source": [
    "with tf.GradientTape() as tape:\n",
    "    y = x @ w + b\n",
    "    loss = tf.reduce_mean(y ** 2)\n",
    "\n",
    "df = tape.gradient(loss, [w, b])    \n",
    "print(df[0], df[1], sep=\"\\n\")"
   ]
  },
  {
   "cell_type": "markdown",
   "id": "669f7703",
   "metadata": {},
   "source": [
    "В методе `gradient()` первым параметром указываем функцию `loss`, а вторым - список аргументов, от которых вычисляем частные производные в точках `w, b` и при заданном значении"
   ]
  },
  {
   "cell_type": "markdown",
   "id": "0d4d07fb",
   "metadata": {},
   "source": [
    "## 03 example"
   ]
  },
  {
   "cell_type": "code",
   "execution_count": 9,
   "id": "bc19931e",
   "metadata": {},
   "outputs": [
    {
     "name": "stdout",
     "output_type": "stream",
     "text": [
      "tf.Tensor(3.0, shape=(), dtype=float32)\n",
      "None\n"
     ]
    }
   ],
   "source": [
    "x = tf.Variable(0, dtype=tf.float32)\n",
    "b = tf.constant(1.5)\n",
    "\n",
    "with tf.GradientTape() as tape:\n",
    "    f = (x + b) ** 2 + 2 * b\n",
    "    \n",
    "df = tape.gradient(f, [x, b])    \n",
    "print(df[0], df[1], sep=\"\\n\")"
   ]
  },
  {
   "cell_type": "markdown",
   "id": "49168b1c",
   "metadata": {},
   "source": [
    "Переменная `b` - это константа, подтому производная по `b` не была вычислена\n",
    "\n",
    "Преобразуе константу в переменную:"
   ]
  },
  {
   "cell_type": "code",
   "execution_count": 10,
   "id": "73e24ecd",
   "metadata": {},
   "outputs": [
    {
     "name": "stdout",
     "output_type": "stream",
     "text": [
      "tf.Tensor(3.0, shape=(), dtype=float32)\n",
      "tf.Tensor(5.0, shape=(), dtype=float32)\n"
     ]
    }
   ],
   "source": [
    "x = tf.Variable(0, dtype=tf.float32)\n",
    "b = tf.Variable(1.5)\n",
    "\n",
    "with tf.GradientTape() as tape:\n",
    "    f = (x + b) ** 2 + 2 * b\n",
    "    \n",
    "df = tape.gradient(f, [x, b])    \n",
    "print(df[0], df[1], sep=\"\\n\")"
   ]
  },
  {
   "cell_type": "markdown",
   "id": "2687c554",
   "metadata": {},
   "source": [
    "Запретим отслеживание переменной `x`:"
   ]
  },
  {
   "cell_type": "code",
   "execution_count": 11,
   "id": "c45005c0",
   "metadata": {},
   "outputs": [
    {
     "name": "stdout",
     "output_type": "stream",
     "text": [
      "None\n",
      "tf.Tensor(5.0, shape=(), dtype=float32)\n"
     ]
    }
   ],
   "source": [
    "x = tf.Variable(0, dtype=tf.float32, trainable=False)\n",
    "b = tf.Variable(1.5)\n",
    "\n",
    "with tf.GradientTape() as tape:\n",
    "    f = (x + b) ** 2 + 2 * b\n",
    "    \n",
    "df = tape.gradient(f, [x, b])    \n",
    "print(df[0], df[1], sep=\"\\n\")"
   ]
  },
  {
   "cell_type": "markdown",
   "id": "7f9ee6e8",
   "metadata": {},
   "source": [
    "Полное отключение отслеживания переменных:"
   ]
  },
  {
   "cell_type": "code",
   "execution_count": 12,
   "id": "bd1b7f44",
   "metadata": {},
   "outputs": [
    {
     "name": "stdout",
     "output_type": "stream",
     "text": [
      "None\n",
      "None\n"
     ]
    }
   ],
   "source": [
    "x = tf.Variable(0, dtype=tf.float32)\n",
    "b = tf.Variable(1.5)\n",
    "\n",
    "with tf.GradientTape(watch_accessed_variables=False) as tape:\n",
    "    f = (x + b) ** 2 + 2 * b\n",
    "    \n",
    "df = tape.gradient(f, [x, b])    \n",
    "print(df[0], df[1], sep=\"\\n\")"
   ]
  },
  {
   "cell_type": "markdown",
   "id": "e6ade460",
   "metadata": {},
   "source": [
    "Укажем переменные, которые следует наблюдать:"
   ]
  },
  {
   "cell_type": "code",
   "execution_count": 13,
   "id": "e1fdd87e",
   "metadata": {},
   "outputs": [
    {
     "name": "stdout",
     "output_type": "stream",
     "text": [
      "tf.Tensor(3.0, shape=(), dtype=float32)\n",
      "None\n"
     ]
    }
   ],
   "source": [
    "x = tf.Variable(0, dtype=tf.float32)\n",
    "b = tf.Variable(1.5)\n",
    "\n",
    "with tf.GradientTape(watch_accessed_variables=False) as tape:\n",
    "    tape.watch(x)\n",
    "    f = (x + b) ** 2 + 2 * b\n",
    "    \n",
    "df = tape.gradient(f, [x, b])    \n",
    "print(df[0], df[1], sep=\"\\n\")"
   ]
  },
  {
   "cell_type": "code",
   "execution_count": 14,
   "id": "b3eea311",
   "metadata": {},
   "outputs": [
    {
     "name": "stdout",
     "output_type": "stream",
     "text": [
      "tf.Tensor(3.0, shape=(), dtype=float32)\n",
      "tf.Tensor(5.0, shape=(), dtype=float32)\n"
     ]
    }
   ],
   "source": [
    "x = tf.Variable(0, dtype=tf.float32)\n",
    "b = tf.Variable(1.5)\n",
    "\n",
    "with tf.GradientTape(watch_accessed_variables=False) as tape:\n",
    "    tape.watch([x, b])\n",
    "    f = (x + b) ** 2 + 2 * b\n",
    "    \n",
    "df = tape.gradient(f, [x, b])    \n",
    "print(df[0], df[1], sep=\"\\n\")"
   ]
  },
  {
   "cell_type": "markdown",
   "id": "f5686878",
   "metadata": {},
   "source": [
    "## 04 example"
   ]
  },
  {
   "cell_type": "markdown",
   "id": "c9852a78",
   "metadata": {},
   "source": [
    "Также отслеживание происходит и для всех промежуточных переменных, которые связаны с наблюдаемой переменной."
   ]
  },
  {
   "cell_type": "code",
   "execution_count": 20,
   "id": "bd437ff0",
   "metadata": {},
   "outputs": [
    {
     "name": "stdout",
     "output_type": "stream",
     "text": [
      "tf.Tensor(8.0, shape=(), dtype=float32)\n"
     ]
    }
   ],
   "source": [
    "x = tf.Variable(2, dtype=tf.float32)\n",
    "y = tf.Variable(3, dtype=tf.float32)\n",
    "\n",
    "with tf.GradientTape(watch_accessed_variables=False) as tape:\n",
    "    tape.watch(x)\n",
    "    y = 2 * x\n",
    "    f = y * y\n",
    " \n",
    "df = tape.gradient(f, y)\n",
    "print(df)"
   ]
  },
  {
   "cell_type": "code",
   "execution_count": 21,
   "id": "95df8ceb",
   "metadata": {},
   "outputs": [
    {
     "ename": "RuntimeError",
     "evalue": "A non-persistent GradientTape can only be used to compute one set of gradients (or jacobians)",
     "output_type": "error",
     "traceback": [
      "\u001b[0;31m---------------------------------------------------------------------------\u001b[0m",
      "\u001b[0;31mRuntimeError\u001b[0m                              Traceback (most recent call last)",
      "\u001b[0;32m/tmp/ipython-input-21-3663136615.py\u001b[0m in \u001b[0;36m<cell line: 0>\u001b[0;34m()\u001b[0m\n\u001b[0;32m----> 1\u001b[0;31m \u001b[0mdf\u001b[0m \u001b[0;34m=\u001b[0m \u001b[0mtape\u001b[0m\u001b[0;34m.\u001b[0m\u001b[0mgradient\u001b[0m\u001b[0;34m(\u001b[0m\u001b[0mf\u001b[0m\u001b[0;34m,\u001b[0m \u001b[0my\u001b[0m\u001b[0;34m)\u001b[0m\u001b[0;34m\u001b[0m\u001b[0;34m\u001b[0m\u001b[0m\n\u001b[0m",
      "\u001b[0;32m/usr/local/lib/python3.11/dist-packages/tensorflow/python/eager/backprop.py\u001b[0m in \u001b[0;36mgradient\u001b[0;34m(self, target, sources, output_gradients, unconnected_gradients)\u001b[0m\n\u001b[1;32m   1003\u001b[0m     \"\"\"\n\u001b[1;32m   1004\u001b[0m     \u001b[0;32mif\u001b[0m \u001b[0mself\u001b[0m\u001b[0;34m.\u001b[0m\u001b[0m_tape\u001b[0m \u001b[0;32mis\u001b[0m \u001b[0;32mNone\u001b[0m\u001b[0;34m:\u001b[0m\u001b[0;34m\u001b[0m\u001b[0;34m\u001b[0m\u001b[0m\n\u001b[0;32m-> 1005\u001b[0;31m       raise RuntimeError(\"A non-persistent GradientTape can only be used to \"\n\u001b[0m\u001b[1;32m   1006\u001b[0m                          \"compute one set of gradients (or jacobians)\")\n\u001b[1;32m   1007\u001b[0m     \u001b[0;32mif\u001b[0m \u001b[0mself\u001b[0m\u001b[0;34m.\u001b[0m\u001b[0m_recording\u001b[0m\u001b[0;34m:\u001b[0m\u001b[0;34m\u001b[0m\u001b[0;34m\u001b[0m\u001b[0m\n",
      "\u001b[0;31mRuntimeError\u001b[0m: A non-persistent GradientTape can only be used to compute one set of gradients (or jacobians)"
     ]
    }
   ],
   "source": [
    "df = tape.gradient(f, y)"
   ]
  },
  {
   "cell_type": "markdown",
   "id": "c35fd571",
   "metadata": {},
   "source": [
    "Метод `gradient` автоматически высвобождает все ресурсы, связанные с промежуточными вычислениями. Поэтому при повторном его вызове получим ошибку.\n",
    "\n",
    "Чтобы этого не происходило, при создании объекта `GradientTape()` можно указать параметр `persistent=True`"
   ]
  },
  {
   "cell_type": "code",
   "execution_count": 24,
   "id": "2fab0218",
   "metadata": {},
   "outputs": [
    {
     "name": "stdout",
     "output_type": "stream",
     "text": [
      "tf.Tensor(8.0, shape=(), dtype=float32)\n",
      "tf.Tensor(8.0, shape=(), dtype=float32)\n"
     ]
    }
   ],
   "source": [
    "x = tf.Variable(2, dtype=tf.float32)\n",
    "y = tf.Variable(3, dtype=tf.float32)\n",
    "\n",
    "with tf.GradientTape(watch_accessed_variables=False, persistent=True) as tape:\n",
    "    tape.watch(x)\n",
    "    y = 2 * x\n",
    "    f = y * y\n",
    " \n",
    "df = tape.gradient(f, y)\n",
    "print(df)\n",
    "df = tape.gradient(f, y)\n",
    "print(df)\n",
    "\n",
    "del tape"
   ]
  },
  {
   "cell_type": "markdown",
   "id": "5bce2575",
   "metadata": {},
   "source": [
    "## 05 example"
   ]
  },
  {
   "cell_type": "markdown",
   "id": "6f2e748b",
   "metadata": {},
   "source": [
    "Если выходная функция является векторной, а ее параметр - скаляр, то результирующий градиент также будет скаларом:"
   ]
  },
  {
   "cell_type": "code",
   "execution_count": 25,
   "id": "be8e3dba",
   "metadata": {},
   "outputs": [
    {
     "name": "stdout",
     "output_type": "stream",
     "text": [
      "tf.Tensor(10.0, shape=(), dtype=float32)\n"
     ]
    }
   ],
   "source": [
    "x = tf.Variable(1.0)\n",
    "\n",
    "with tf.GradientTape() as tape:\n",
    "    y = [2.0, 3.0] * x ** 2\n",
    "\n",
    "df = tape.gradient(y, x)\n",
    "print(df)    "
   ]
  },
  {
   "cell_type": "markdown",
   "id": "9b995923",
   "metadata": {},
   "source": [
    "Произошло суммирование градиентов от каждого выходного значения"
   ]
  },
  {
   "cell_type": "markdown",
   "id": "65429776",
   "metadata": {},
   "source": [
    "А если наоборот, входной параметр является вектором, а функция скаляром, то значения градиентов будут представлены в виде вектора:"
   ]
  },
  {
   "cell_type": "code",
   "execution_count": 26,
   "id": "96e57c65",
   "metadata": {},
   "outputs": [
    {
     "name": "stdout",
     "output_type": "stream",
     "text": [
      "tf.Tensor([ 4. 12.], shape=(2,), dtype=float32)\n"
     ]
    }
   ],
   "source": [
    "x = tf.Variable([1.0, 2.0])\n",
    "\n",
    "with tf.GradientTape() as tape:\n",
    "    y = tf.reduce_sum([2.0, 3.0] * x ** 2)\n",
    "\n",
    "df = tape.gradient(y, x)\n",
    "print(df)    "
   ]
  },
  {
   "cell_type": "markdown",
   "id": "ecfbfc18",
   "metadata": {},
   "source": [
    "Так как, проходя по графу в обратном направлении, как раз получаем две ведичины для каждого входа."
   ]
  },
  {
   "cell_type": "markdown",
   "id": "7de224a8",
   "metadata": {},
   "source": [
    "## 06 example"
   ]
  },
  {
   "cell_type": "markdown",
   "id": "1f394a47",
   "metadata": {},
   "source": [
    "Функцию можно определять с использованием различных управляющих конструкция языка Python:"
   ]
  },
  {
   "cell_type": "code",
   "execution_count": 27,
   "id": "51fd72e6",
   "metadata": {},
   "outputs": [
    {
     "name": "stdout",
     "output_type": "stream",
     "text": [
      "tf.Tensor(10.0, shape=(), dtype=float32)\n"
     ]
    }
   ],
   "source": [
    "x = tf.Variable(1.0)\n",
    "\n",
    "with tf.GradientTape() as tape:\n",
    "    if x < 2.0:\n",
    "        y = tf.reduce_sum([2.0, 3.0] * x ** 2)\n",
    "    else:\n",
    "        y = x ** 2\n",
    "\n",
    "df = tape.gradient(y, x)\n",
    "print(df)            "
   ]
  },
  {
   "cell_type": "markdown",
   "id": "bfe0919d",
   "metadata": {},
   "source": [
    "## Особенности вычисления градиентов"
   ]
  },
  {
   "cell_type": "markdown",
   "id": "79e5c668",
   "metadata": {},
   "source": [
    "Ошибка 1. Неверное определение промежуточной функции"
   ]
  },
  {
   "cell_type": "code",
   "execution_count": 29,
   "id": "4619cefa",
   "metadata": {},
   "outputs": [
    {
     "name": "stdout",
     "output_type": "stream",
     "text": [
      "None\n"
     ]
    }
   ],
   "source": [
    "x = tf.Variable(1.0)\n",
    "y = 2 * x + 1\n",
    " \n",
    "with tf.GradientTape() as tape:\n",
    "    z = y ** 2\n",
    " \n",
    "df = tape.gradient(z, x)\n",
    "print(df)"
   ]
  },
  {
   "cell_type": "markdown",
   "id": "8048bfac",
   "metadata": {},
   "source": [
    "Исправим:"
   ]
  },
  {
   "cell_type": "code",
   "execution_count": 30,
   "id": "f7dfd1be",
   "metadata": {},
   "outputs": [
    {
     "name": "stdout",
     "output_type": "stream",
     "text": [
      "tf.Tensor(12.0, shape=(), dtype=float32)\n"
     ]
    }
   ],
   "source": [
    "x = tf.Variable(1.0)\n",
    " \n",
    "with tf.GradientTape() as tape:\n",
    "    y = 2 * x + 1\n",
    "    z = y ** 2\n",
    " \n",
    "df = tape.gradient(z, x)\n",
    "print(df)"
   ]
  },
  {
   "cell_type": "markdown",
   "id": "791c1ed0",
   "metadata": {},
   "source": [
    "Ошибка 2. Случайная замена исходной переменной `x` на тензор (константу)"
   ]
  },
  {
   "cell_type": "code",
   "execution_count": 33,
   "id": "80c4b3f1",
   "metadata": {},
   "outputs": [
    {
     "name": "stdout",
     "output_type": "stream",
     "text": [
      "tf.Tensor(4.0, shape=(), dtype=float32)\n",
      "None\n"
     ]
    }
   ],
   "source": [
    "x = tf.Variable(1.0)\n",
    " \n",
    "for n in range(2):\n",
    "    with tf.GradientTape() as tape:\n",
    "        y = x ** 2 + 2 * x\n",
    " \n",
    "    df = tape.gradient(y, x)\n",
    "    print(df)\n",
    " \n",
    "    x = x + 1 # так делать нельзя"
   ]
  },
  {
   "cell_type": "markdown",
   "id": "6548330b",
   "metadata": {},
   "source": [
    "После операции `x = x +1` переменная `x` превращается в тензор, которые не отслеживается в `GradientTape()`. Правильнее здесь было бы использовать метод `assing_add()`"
   ]
  },
  {
   "cell_type": "code",
   "execution_count": 35,
   "id": "f9060aaf",
   "metadata": {},
   "outputs": [
    {
     "name": "stdout",
     "output_type": "stream",
     "text": [
      "tf.Tensor(4.0, shape=(), dtype=float32)\n",
      "tf.Tensor(6.0, shape=(), dtype=float32)\n"
     ]
    }
   ],
   "source": [
    "x = tf.Variable(1.0)\n",
    " \n",
    "for n in range(2):\n",
    "    with tf.GradientTape() as tape:\n",
    "        y = x ** 2 + 2 * x\n",
    " \n",
    "    df = tape.gradient(y, x)\n",
    "    print(df)\n",
    " \n",
    "    x.assign_add(1.0)"
   ]
  },
  {
   "cell_type": "markdown",
   "id": "bd07184d",
   "metadata": {},
   "source": [
    "Ошибка 3. Использование при вычислении значений не методов Tensorflow, а других спососбов. Например, так:"
   ]
  },
  {
   "cell_type": "code",
   "execution_count": 36,
   "id": "64789fc8",
   "metadata": {},
   "outputs": [
    {
     "ename": "NameError",
     "evalue": "name 'np' is not defined",
     "output_type": "error",
     "traceback": [
      "\u001b[0;31m---------------------------------------------------------------------------\u001b[0m",
      "\u001b[0;31mNameError\u001b[0m                                 Traceback (most recent call last)",
      "\u001b[0;32m/tmp/ipython-input-36-1665575779.py\u001b[0m in \u001b[0;36m<cell line: 0>\u001b[0;34m()\u001b[0m\n\u001b[1;32m      2\u001b[0m \u001b[0;34m\u001b[0m\u001b[0m\n\u001b[1;32m      3\u001b[0m \u001b[0;32mwith\u001b[0m \u001b[0mtf\u001b[0m\u001b[0;34m.\u001b[0m\u001b[0mGradientTape\u001b[0m\u001b[0;34m(\u001b[0m\u001b[0;34m)\u001b[0m \u001b[0;32mas\u001b[0m \u001b[0mtape\u001b[0m\u001b[0;34m:\u001b[0m\u001b[0;34m\u001b[0m\u001b[0;34m\u001b[0m\u001b[0m\n\u001b[0;32m----> 4\u001b[0;31m     \u001b[0my\u001b[0m \u001b[0;34m=\u001b[0m \u001b[0mtf\u001b[0m\u001b[0;34m.\u001b[0m\u001b[0mconstant\u001b[0m\u001b[0;34m(\u001b[0m\u001b[0;36m2.0\u001b[0m\u001b[0;34m)\u001b[0m \u001b[0;34m+\u001b[0m \u001b[0mnp\u001b[0m\u001b[0;34m.\u001b[0m\u001b[0msquare\u001b[0m\u001b[0;34m(\u001b[0m\u001b[0mx\u001b[0m\u001b[0;34m)\u001b[0m\u001b[0;34m\u001b[0m\u001b[0;34m\u001b[0m\u001b[0m\n\u001b[0m\u001b[1;32m      5\u001b[0m \u001b[0;34m\u001b[0m\u001b[0m\n\u001b[1;32m      6\u001b[0m \u001b[0mdf\u001b[0m \u001b[0;34m=\u001b[0m \u001b[0mtape\u001b[0m\u001b[0;34m.\u001b[0m\u001b[0mgradient\u001b[0m\u001b[0;34m(\u001b[0m\u001b[0my\u001b[0m\u001b[0;34m,\u001b[0m \u001b[0mx\u001b[0m\u001b[0;34m)\u001b[0m\u001b[0;34m\u001b[0m\u001b[0;34m\u001b[0m\u001b[0m\n",
      "\u001b[0;31mNameError\u001b[0m: name 'np' is not defined"
     ]
    }
   ],
   "source": [
    "x = tf.Variable(1.0)\n",
    " \n",
    "with tf.GradientTape() as tape:\n",
    "    y = tf.constant(2.0) + np.square(x)\n",
    " \n",
    "df = tape.gradient(y, x)\n",
    "print(df)"
   ]
  },
  {
   "cell_type": "code",
   "execution_count": 37,
   "id": "8dcefab7",
   "metadata": {},
   "outputs": [
    {
     "name": "stdout",
     "output_type": "stream",
     "text": [
      "tf.Tensor(2.0, shape=(), dtype=float32)\n"
     ]
    }
   ],
   "source": [
    "x = tf.Variable(1.0)\n",
    " \n",
    "with tf.GradientTape() as tape:\n",
    "    y = tf.constant(2.0) + x * x\n",
    " \n",
    "df = tape.gradient(y, x)\n",
    "print(df)"
   ]
  },
  {
   "cell_type": "markdown",
   "id": "dda2073e",
   "metadata": {},
   "source": [
    "Ошибка 4. Определение переменной с целым типом данных"
   ]
  },
  {
   "cell_type": "code",
   "execution_count": 40,
   "id": "b5317952",
   "metadata": {},
   "outputs": [
    {
     "name": "stdout",
     "output_type": "stream",
     "text": [
      "None\n"
     ]
    }
   ],
   "source": [
    "x = tf.Variable(1)\n",
    " \n",
    "with tf.GradientTape() as tape:\n",
    "    y = x * x\n",
    " \n",
    "df = tape.gradient(y, x)\n",
    "print(df)"
   ]
  },
  {
   "cell_type": "markdown",
   "id": "f5e0ca0c",
   "metadata": {},
   "source": [
    "Исправляем:"
   ]
  },
  {
   "cell_type": "code",
   "execution_count": 41,
   "id": "fca921fe",
   "metadata": {},
   "outputs": [
    {
     "name": "stdout",
     "output_type": "stream",
     "text": [
      "tf.Tensor(2.0, shape=(), dtype=float32)\n"
     ]
    }
   ],
   "source": [
    "x = tf.Variable(1.0)\n",
    " \n",
    "with tf.GradientTape() as tape:\n",
    "    y = x * x\n",
    " \n",
    "df = tape.gradient(y, x)\n",
    "print(df)"
   ]
  },
  {
   "cell_type": "markdown",
   "id": "4b4152b9",
   "metadata": {},
   "source": [
    "Ошибка 5. Для целевой функции необходимо прописывать формулы в явном виде"
   ]
  },
  {
   "cell_type": "code",
   "execution_count": 42,
   "id": "c6b3f5a4",
   "metadata": {},
   "outputs": [
    {
     "name": "stdout",
     "output_type": "stream",
     "text": [
      "None\n"
     ]
    }
   ],
   "source": [
    "x = tf.Variable(1.0)\n",
    "w = tf.Variable(2.0)\n",
    " \n",
    "with tf.GradientTape() as tape:\n",
    "    w.assign_add(x)\n",
    "    y = w ** 2\n",
    " \n",
    "df = tape.gradient(y, x)\n",
    "print(df)"
   ]
  },
  {
   "cell_type": "markdown",
   "id": "33c815cf",
   "metadata": {},
   "source": [
    "Исправляем:"
   ]
  },
  {
   "cell_type": "code",
   "execution_count": 43,
   "id": "e1d76a00",
   "metadata": {},
   "outputs": [
    {
     "name": "stdout",
     "output_type": "stream",
     "text": [
      "tf.Tensor(6.0, shape=(), dtype=float32)\n"
     ]
    }
   ],
   "source": [
    "x = tf.Variable(1.0)\n",
    "w = tf.Variable(2.0)\n",
    " \n",
    "with tf.GradientTape() as tape:\n",
    "    w = w + x\n",
    "    y = w ** 2\n",
    " \n",
    "df = tape.gradient(y, x)\n",
    "print(df)"
   ]
  }
 ],
 "metadata": {
  "kernelspec": {
   "display_name": "new-kernel",
   "language": "python",
   "name": "new-kernel"
  },
  "language_info": {
   "codemirror_mode": {
    "name": "ipython",
    "version": 3
   },
   "file_extension": ".py",
   "mimetype": "text/x-python",
   "name": "python",
   "nbconvert_exporter": "python",
   "pygments_lexer": "ipython3",
   "version": "3.11.11"
  }
 },
 "nbformat": 4,
 "nbformat_minor": 5
}
