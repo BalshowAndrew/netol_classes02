{
 "cells": [
  {
   "cell_type": "markdown",
   "id": "5bb657b6",
   "metadata": {},
   "source": [
    "# Создание набора данных из файлов на локальном диске"
   ]
  },
  {
   "cell_type": "code",
   "execution_count": 9,
   "id": "0e415d58",
   "metadata": {},
   "outputs": [],
   "source": [
    "import os\n",
    "os.environ['TF_CPP_MIN_LOG_LEVEL'] = '2'\n",
    "import pathlib\n",
    "import matplotlib.pyplot as plt\n",
    "\n",
    "import tensorflow as tf\n",
    "import numpy as np\n",
    "np.set_printoptions(precision=3)"
   ]
  },
  {
   "cell_type": "markdown",
   "id": "1d89f2bb",
   "metadata": {},
   "source": [
    "### Сгенерируем список файлов с изображениями"
   ]
  },
  {
   "cell_type": "code",
   "execution_count": 8,
   "id": "eb0e91c3",
   "metadata": {},
   "outputs": [
    {
     "data": {
      "text/plain": [
       "['../repositories/python-machine-learning-book-3rd-edition/ch13/cat_dog_images/cat-01.jpg',\n",
       " '../repositories/python-machine-learning-book-3rd-edition/ch13/cat_dog_images/cat-02.jpg',\n",
       " '../repositories/python-machine-learning-book-3rd-edition/ch13/cat_dog_images/cat-03.jpg',\n",
       " '../repositories/python-machine-learning-book-3rd-edition/ch13/cat_dog_images/dog-01.jpg',\n",
       " '../repositories/python-machine-learning-book-3rd-edition/ch13/cat_dog_images/dog-02.jpg',\n",
       " '../repositories/python-machine-learning-book-3rd-edition/ch13/cat_dog_images/dog-03.jpg']"
      ]
     },
     "execution_count": 8,
     "metadata": {},
     "output_type": "execute_result"
    }
   ],
   "source": [
    "imgdir_path = pathlib.Path('../repositories/python-machine-learning-book-3rd-edition/ch13/cat_dog_images')\n",
    "file_list = sorted([str(path) for path in imgdir_path.glob('*.jpg')])\n",
    "file_list"
   ]
  },
  {
   "cell_type": "markdown",
   "id": "02262f6f",
   "metadata": {},
   "source": [
    "## Визуализируем примеры изображений"
   ]
  },
  {
   "cell_type": "code",
   "execution_count": null,
   "id": "ab0abdb0",
   "metadata": {},
   "outputs": [],
   "source": []
  }
 ],
 "metadata": {
  "kernelspec": {
   "display_name": "new-kernel",
   "language": "python",
   "name": "new-kernel"
  },
  "language_info": {
   "codemirror_mode": {
    "name": "ipython",
    "version": 3
   },
   "file_extension": ".py",
   "mimetype": "text/x-python",
   "name": "python",
   "nbconvert_exporter": "python",
   "pygments_lexer": "ipython3",
   "version": "3.11.11"
  }
 },
 "nbformat": 4,
 "nbformat_minor": 5
}
