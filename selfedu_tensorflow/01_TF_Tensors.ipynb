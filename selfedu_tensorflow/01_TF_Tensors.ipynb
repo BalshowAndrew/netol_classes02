{
 "cells": [
  {
   "cell_type": "code",
   "execution_count": 10,
   "id": "63fc4d37",
   "metadata": {},
   "outputs": [],
   "source": [
    "import os\n",
    "os.environ['TF_CPP_MIN_LOG_LEVEL'] = '2'\n",
    "\n",
    "import tensorflow as tf\n",
    "import numpy as np\n",
    "np.set_printoptions(precision=3)"
   ]
  },
  {
   "cell_type": "markdown",
   "id": "8362b3b5",
   "metadata": {},
   "source": [
    "В библиотеке `TensorFlow` значения хранятся в массивах `NumPy`, и тензоры предоставляют ссылки на такие массивы."
   ]
  },
  {
   "cell_type": "code",
   "execution_count": 11,
   "id": "6da3392c",
   "metadata": {},
   "outputs": [],
   "source": [
    "a = np.array([1, 2, 3], dtype=np.int32)\n",
    "b = [4, 5, 6]"
   ]
  },
  {
   "cell_type": "code",
   "execution_count": 12,
   "id": "eaab63f8",
   "metadata": {},
   "outputs": [],
   "source": [
    "t_a = tf.convert_to_tensor(a)\n",
    "t_b = tf.convert_to_tensor(b)"
   ]
  },
  {
   "cell_type": "code",
   "execution_count": 13,
   "id": "9c5fa306",
   "metadata": {},
   "outputs": [
    {
     "name": "stdout",
     "output_type": "stream",
     "text": [
      "tf.Tensor([1 2 3], shape=(3,), dtype=int32)\n",
      "tf.Tensor([4 5 6], shape=(3,), dtype=int32)\n"
     ]
    }
   ],
   "source": [
    "print(t_a)\n",
    "print(t_b)"
   ]
  },
  {
   "cell_type": "markdown",
   "id": "4dba9e18",
   "metadata": {},
   "source": [
    "Чтобы получить доступ к значениям, на которые ссылается тензор, можно просто вызвать метод `.numpy()` не тензоре:"
   ]
  },
  {
   "cell_type": "code",
   "execution_count": 14,
   "id": "0277bf55",
   "metadata": {},
   "outputs": [
    {
     "data": {
      "text/plain": [
       "array([1, 2, 3], dtype=int32)"
      ]
     },
     "execution_count": 14,
     "metadata": {},
     "output_type": "execute_result"
    }
   ],
   "source": [
    "t_a.numpy()"
   ]
  },
  {
   "cell_type": "code",
   "execution_count": 15,
   "id": "87637539",
   "metadata": {},
   "outputs": [
    {
     "data": {
      "text/plain": [
       "array([4, 5, 6], dtype=int32)"
      ]
     },
     "execution_count": 15,
     "metadata": {},
     "output_type": "execute_result"
    }
   ],
   "source": [
    "t_b.numpy()"
   ]
  },
  {
   "cell_type": "markdown",
   "id": "17b9e66c",
   "metadata": {},
   "source": [
    "Тензор константных значений:"
   ]
  },
  {
   "cell_type": "code",
   "execution_count": 16,
   "id": "fe6c50a4",
   "metadata": {},
   "outputs": [
    {
     "name": "stdout",
     "output_type": "stream",
     "text": [
      "tf.Tensor([1.2   5.    3.142], shape=(3,), dtype=float32)\n"
     ]
    }
   ],
   "source": [
    "const_tensor = tf.constant([1.2, 5, np.pi], dtype=tf.float32)\n",
    "print(const_tensor)"
   ]
  },
  {
   "cell_type": "markdown",
   "id": "a00752ee",
   "metadata": {},
   "source": [
    "### Манипулирование с типом данных и формой тензора"
   ]
  },
  {
   "cell_type": "code",
   "execution_count": 20,
   "id": "2b3ec1a1",
   "metadata": {},
   "outputs": [
    {
     "name": "stdout",
     "output_type": "stream",
     "text": [
      "<dtype: 'int32'>\n"
     ]
    }
   ],
   "source": [
    "print(t_a.dtype)"
   ]
  },
  {
   "cell_type": "code",
   "execution_count": 21,
   "id": "ff2a56ec",
   "metadata": {},
   "outputs": [
    {
     "name": "stdout",
     "output_type": "stream",
     "text": [
      "<dtype: 'int64'>\n"
     ]
    }
   ],
   "source": [
    "t_a_new = tf.cast(t_a, tf.int64)\n",
    "print(t_a_new.dtype)"
   ]
  },
  {
   "cell_type": "markdown",
   "id": "42b924f9",
   "metadata": {},
   "source": [
    "#### Транспонирование"
   ]
  },
  {
   "cell_type": "code",
   "execution_count": 23,
   "id": "cc917c4b",
   "metadata": {},
   "outputs": [
    {
     "data": {
      "text/plain": [
       "<tf.Tensor: shape=(3, 5), dtype=float32, numpy=\n",
       "array([[0.132, 0.458, 0.052, 0.86 , 0.645],\n",
       "       [0.286, 0.105, 0.627, 0.862, 0.067],\n",
       "       [0.663, 0.568, 0.201, 0.28 , 0.268]], dtype=float32)>"
      ]
     },
     "execution_count": 23,
     "metadata": {},
     "output_type": "execute_result"
    }
   ],
   "source": [
    "t = tf.random.uniform(shape=(3, 5))\n",
    "t"
   ]
  },
  {
   "cell_type": "code",
   "execution_count": 24,
   "id": "104965ae",
   "metadata": {},
   "outputs": [
    {
     "data": {
      "text/plain": [
       "<tf.Tensor: shape=(5, 3), dtype=float32, numpy=\n",
       "array([[0.132, 0.286, 0.663],\n",
       "       [0.458, 0.105, 0.568],\n",
       "       [0.052, 0.627, 0.201],\n",
       "       [0.86 , 0.862, 0.28 ],\n",
       "       [0.645, 0.067, 0.268]], dtype=float32)>"
      ]
     },
     "execution_count": 24,
     "metadata": {},
     "output_type": "execute_result"
    }
   ],
   "source": [
    "t_tr = tf.transpose(t)\n",
    "t_tr"
   ]
  },
  {
   "cell_type": "code",
   "execution_count": 25,
   "id": "7db2eb87",
   "metadata": {},
   "outputs": [
    {
     "name": "stdout",
     "output_type": "stream",
     "text": [
      "(3, 5) --> (5, 3)\n"
     ]
    }
   ],
   "source": [
    "print(t.shape, '-->', t_tr.shape)"
   ]
  },
  {
   "cell_type": "markdown",
   "id": "2c28ab86",
   "metadata": {},
   "source": [
    "#### Изменение формы тензора"
   ]
  },
  {
   "cell_type": "code",
   "execution_count": 26,
   "id": "7c07b320",
   "metadata": {},
   "outputs": [
    {
     "name": "stdout",
     "output_type": "stream",
     "text": [
      "(5, 6)\n"
     ]
    }
   ],
   "source": [
    "t = tf.zeros((30,))\n",
    "t_reshape = tf.reshape(t, shape = (5, 6))\n",
    "print(t_reshape.shape)"
   ]
  },
  {
   "cell_type": "markdown",
   "id": "a284aa2e",
   "metadata": {},
   "source": [
    "#### Удаление измерений, имеющих размер 1, которые не нужны:"
   ]
  },
  {
   "cell_type": "code",
   "execution_count": 27,
   "id": "af7fc7b7",
   "metadata": {},
   "outputs": [
    {
     "name": "stdout",
     "output_type": "stream",
     "text": [
      "(1, 2, 1, 4, 1) --> (1, 2, 4)\n"
     ]
    }
   ],
   "source": [
    "t = tf.zeros((1, 2, 1, 4, 1))\n",
    "t_sqz = tf.squeeze(t, axis=(2, 4))\n",
    "print(t.shape, '-->', t_sqz.shape)"
   ]
  },
  {
   "cell_type": "markdown",
   "id": "1abc3877",
   "metadata": {},
   "source": [
    "### Применение математических операций к тензорам"
   ]
  },
  {
   "cell_type": "code",
   "execution_count": 28,
   "id": "bc6f6f03",
   "metadata": {},
   "outputs": [],
   "source": [
    "tf.random.set_seed(1)\n",
    "t1 = tf.random.uniform(\n",
    "    shape = (5, 2),\n",
    "    minval=-1.0,\n",
    "    maxval=1.0\n",
    ")\n",
    "\n",
    "t2 = tf.random.normal(\n",
    "    shape=(5, 2),\n",
    "    mean=0.0,\n",
    "    stddev=1.0\n",
    ")"
   ]
  },
  {
   "cell_type": "code",
   "execution_count": 29,
   "id": "f3bbdaab",
   "metadata": {},
   "outputs": [
    {
     "data": {
      "text/plain": [
       "<tf.Tensor: shape=(5, 2), dtype=float32, numpy=\n",
       "array([[-0.67 ,  0.803],\n",
       "       [ 0.262, -0.131],\n",
       "       [-0.416,  0.285],\n",
       "       [ 0.952, -0.13 ],\n",
       "       [ 0.32 ,  0.21 ]], dtype=float32)>"
      ]
     },
     "execution_count": 29,
     "metadata": {},
     "output_type": "execute_result"
    }
   ],
   "source": [
    "t1"
   ]
  },
  {
   "cell_type": "code",
   "execution_count": 30,
   "id": "d49224d6",
   "metadata": {},
   "outputs": [
    {
     "data": {
      "text/plain": [
       "<tf.Tensor: shape=(5, 2), dtype=float32, numpy=\n",
       "array([[ 0.403, -1.088],\n",
       "       [-0.063,  1.337],\n",
       "       [ 0.712, -0.489],\n",
       "       [-0.764, -1.037],\n",
       "       [-1.252,  0.021]], dtype=float32)>"
      ]
     },
     "execution_count": 30,
     "metadata": {},
     "output_type": "execute_result"
    }
   ],
   "source": [
    "t2"
   ]
  },
  {
   "cell_type": "markdown",
   "id": "078fb5b8",
   "metadata": {},
   "source": [
    "#### Поэлементное произведение"
   ]
  },
  {
   "cell_type": "code",
   "execution_count": 31,
   "id": "051de31f",
   "metadata": {},
   "outputs": [
    {
     "name": "stdout",
     "output_type": "stream",
     "text": [
      "[[-0.27  -0.874]\n",
      " [-0.017 -0.175]\n",
      " [-0.296 -0.139]\n",
      " [-0.727  0.135]\n",
      " [-0.401  0.004]]\n"
     ]
    }
   ],
   "source": [
    "t3 = tf.multiply(t1, t2).numpy()\n",
    "print(t3)"
   ]
  },
  {
   "cell_type": "markdown",
   "id": "38760feb",
   "metadata": {},
   "source": [
    "#### Рассчет среднего, суммы и стандартного отклонения по определенной оси"
   ]
  },
  {
   "cell_type": "code",
   "execution_count": 43,
   "id": "ad5176dd",
   "metadata": {},
   "outputs": [
    {
     "name": "stdout",
     "output_type": "stream",
     "text": [
      "[0.09  0.207]\n"
     ]
    }
   ],
   "source": [
    "# среднее\n",
    "t4 = tf.reduce_mean(t1, axis=0)\n",
    "print(t4.numpy())"
   ]
  },
  {
   "cell_type": "code",
   "execution_count": 42,
   "id": "aa2d5dd4",
   "metadata": {},
   "outputs": [
    {
     "name": "stdout",
     "output_type": "stream",
     "text": [
      "[0.448 1.037]\n"
     ]
    }
   ],
   "source": [
    "# сумма\n",
    "t4 = tf.reduce_sum(t1, axis=0)\n",
    "print(t4.numpy())"
   ]
  },
  {
   "cell_type": "code",
   "execution_count": 41,
   "id": "64b0de35",
   "metadata": {},
   "outputs": [
    {
     "name": "stdout",
     "output_type": "stream",
     "text": [
      "[0.576 0.343]\n"
     ]
    }
   ],
   "source": [
    "# стандартное отклонение\n",
    "t4 = tf.math.reduce_std(t1, axis=0)\n",
    "print(t4.numpy())"
   ]
  },
  {
   "cell_type": "code",
   "execution_count": 40,
   "id": "dee0fd8b",
   "metadata": {},
   "outputs": [
    {
     "name": "stdout",
     "output_type": "stream",
     "text": [
      "[0.736 0.196 0.351 0.541 0.055]\n"
     ]
    }
   ],
   "source": [
    "t4 = tf.math.reduce_std(t1, axis=1)\n",
    "print(t4.numpy())"
   ]
  },
  {
   "cell_type": "markdown",
   "id": "be236c18",
   "metadata": {},
   "source": [
    "#### Матричное произведение"
   ]
  },
  {
   "cell_type": "code",
   "execution_count": 45,
   "id": "622de9d9",
   "metadata": {},
   "outputs": [
    {
     "name": "stdout",
     "output_type": "stream",
     "text": [
      "[[-0.67   0.803]\n",
      " [ 0.262 -0.131]\n",
      " [-0.416  0.285]\n",
      " [ 0.952 -0.13 ]\n",
      " [ 0.32   0.21 ]]\n"
     ]
    }
   ],
   "source": [
    "print(t1.numpy())"
   ]
  },
  {
   "cell_type": "code",
   "execution_count": 46,
   "id": "7ba51993",
   "metadata": {},
   "outputs": [
    {
     "name": "stdout",
     "output_type": "stream",
     "text": [
      "[[ 0.403 -1.088]\n",
      " [-0.063  1.337]\n",
      " [ 0.712 -0.489]\n",
      " [-0.764 -1.037]\n",
      " [-1.252  0.021]]\n"
     ]
    }
   ],
   "source": [
    "print(t2.numpy())"
   ]
  },
  {
   "cell_type": "code",
   "execution_count": 44,
   "id": "c8e1e499",
   "metadata": {},
   "outputs": [
    {
     "name": "stdout",
     "output_type": "stream",
     "text": [
      "[[-1.144  1.115 -0.87  -0.321  0.856]\n",
      " [ 0.248 -0.191  0.25  -0.064 -0.331]\n",
      " [-0.478  0.407 -0.436  0.022  0.527]\n",
      " [ 0.525 -0.234  0.741 -0.593 -1.194]\n",
      " [-0.099  0.26   0.125 -0.462 -0.396]]\n"
     ]
    }
   ],
   "source": [
    "t5 = tf.matmul(t1, t2, transpose_b=True)\n",
    "print(t5.numpy())"
   ]
  },
  {
   "cell_type": "code",
   "execution_count": 50,
   "id": "282a50c4",
   "metadata": {},
   "outputs": [
    {
     "name": "stdout",
     "output_type": "stream",
     "text": [
      "[[-1.711  0.302]\n",
      " [ 0.371 -1.049]]\n"
     ]
    }
   ],
   "source": [
    "t5 = tf.matmul(t1, t2, transpose_a=True)\n",
    "print(t5.numpy())"
   ]
  },
  {
   "cell_type": "markdown",
   "id": "4a4033fe",
   "metadata": {},
   "source": [
    "#### Рассчет нормы тензора"
   ]
  },
  {
   "cell_type": "code",
   "execution_count": 52,
   "id": "23154fbf",
   "metadata": {},
   "outputs": [
    {
     "name": "stdout",
     "output_type": "stream",
     "text": [
      "[1.046 0.293 0.504 0.96  0.383]\n"
     ]
    }
   ],
   "source": [
    "t6 = tf.norm(t1, ord=2, axis=1).numpy()\n",
    "print(t6)"
   ]
  },
  {
   "cell_type": "markdown",
   "id": "b9b01e32",
   "metadata": {},
   "source": [
    "### Расщепление, укладывание стопкой и объединение тензоров"
   ]
  },
  {
   "cell_type": "markdown",
   "id": "a78e32af",
   "metadata": {},
   "source": [
    "#### Расщепление"
   ]
  },
  {
   "cell_type": "code",
   "execution_count": 53,
   "id": "4d83b976",
   "metadata": {},
   "outputs": [
    {
     "name": "stdout",
     "output_type": "stream",
     "text": [
      "[0.165 0.901 0.631 0.435 0.292 0.643]\n"
     ]
    }
   ],
   "source": [
    "tf.random.set_seed(1)\n",
    "t = tf.random.uniform((6,))\n",
    "print(t.numpy())"
   ]
  },
  {
   "cell_type": "code",
   "execution_count": 58,
   "id": "5b385f31",
   "metadata": {},
   "outputs": [
    {
     "data": {
      "text/plain": [
       "list"
      ]
     },
     "execution_count": 58,
     "metadata": {},
     "output_type": "execute_result"
    }
   ],
   "source": [
    "t_splits = tf.split(t, num_or_size_splits=3)\n",
    "type(t_splits)"
   ]
  },
  {
   "cell_type": "code",
   "execution_count": 59,
   "id": "add52fa3",
   "metadata": {},
   "outputs": [
    {
     "data": {
      "text/plain": [
       "[array([0.165, 0.901], dtype=float32),\n",
       " array([0.631, 0.435], dtype=float32),\n",
       " array([0.292, 0.643], dtype=float32)]"
      ]
     },
     "execution_count": 59,
     "metadata": {},
     "output_type": "execute_result"
    }
   ],
   "source": [
    "[item.numpy() for item in t_splits]"
   ]
  },
  {
   "cell_type": "code",
   "execution_count": 60,
   "id": "659c679e",
   "metadata": {},
   "outputs": [
    {
     "name": "stdout",
     "output_type": "stream",
     "text": [
      "[0.165 0.901 0.631 0.435 0.292]\n"
     ]
    }
   ],
   "source": [
    "tf.random.set_seed(1)\n",
    "t = tf.random.uniform((5,))\n",
    "print(t.numpy())"
   ]
  },
  {
   "cell_type": "code",
   "execution_count": 62,
   "id": "ef53fe81",
   "metadata": {},
   "outputs": [
    {
     "data": {
      "text/plain": [
       "[array([0.165, 0.901, 0.631], dtype=float32),\n",
       " array([0.435, 0.292], dtype=float32)]"
      ]
     },
     "execution_count": 62,
     "metadata": {},
     "output_type": "execute_result"
    }
   ],
   "source": [
    "# Укажем размеры отличающихся ращеплений:\n",
    "t_splits = tf.split(t, num_or_size_splits=[3, 2])\n",
    "[item.numpy() for item in t_splits]"
   ]
  },
  {
   "cell_type": "markdown",
   "id": "6fbc5bff",
   "metadata": {},
   "source": [
    "#### Объединенме"
   ]
  },
  {
   "cell_type": "code",
   "execution_count": 68,
   "id": "e4cc8d3c",
   "metadata": {},
   "outputs": [
    {
     "name": "stdout",
     "output_type": "stream",
     "text": [
      "[1. 1. 1. 0. 0.]\n"
     ]
    }
   ],
   "source": [
    "A = tf.ones((3,))\n",
    "B = tf.zeros((2,))\n",
    "C = tf.concat([A, B], axis=0)\n",
    "print(C.numpy())"
   ]
  },
  {
   "cell_type": "code",
   "execution_count": 70,
   "id": "f656b9ab",
   "metadata": {},
   "outputs": [
    {
     "name": "stdout",
     "output_type": "stream",
     "text": [
      "[[1. 0.]\n",
      " [1. 0.]\n",
      " [1. 0.]]\n"
     ]
    }
   ],
   "source": [
    "A = tf.ones((3,))\n",
    "B = tf.zeros((3,))\n",
    "C = tf.stack([A, B], axis=1)\n",
    "print(C.numpy())"
   ]
  },
  {
   "cell_type": "code",
   "execution_count": null,
   "id": "2eb86f75",
   "metadata": {},
   "outputs": [],
   "source": []
  }
 ],
 "metadata": {
  "kernelspec": {
   "display_name": "new-kernel",
   "language": "python",
   "name": "new-kernel"
  },
  "language_info": {
   "codemirror_mode": {
    "name": "ipython",
    "version": 3
   },
   "file_extension": ".py",
   "mimetype": "text/x-python",
   "name": "python",
   "nbconvert_exporter": "python",
   "pygments_lexer": "ipython3",
   "version": "3.11.11"
  }
 },
 "nbformat": 4,
 "nbformat_minor": 5
}
