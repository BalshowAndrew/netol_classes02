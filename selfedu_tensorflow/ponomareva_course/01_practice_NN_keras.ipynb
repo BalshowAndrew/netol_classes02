{
  "cells": [
    {
      "cell_type": "markdown",
      "metadata": {
        "id": "YENBrjbPiQwC"
      },
      "source": [
        "# Первая нейросеть на Keras\n"
      ]
    },
    {
      "cell_type": "code",
      "execution_count": 3,
      "metadata": {},
      "outputs": [],
      "source": [
        "import numpy as np\n",
        "import pandas as pd\n",
        "from matplotlib import pyplot as plt\n",
        "\n",
        "from sklearn.datasets import fetch_california_housing\n",
        "from sklearn.preprocessing import MinMaxScaler\n",
        "from sklearn.metrics import accuracy_score\n",
        "\n",
        "import tensorflow as tf\n",
        "from keras.layers import Dense, Flatten\n",
        "from keras.models import Sequential\n",
        "# from keras.datasets import mnist\n",
        "from keras.utils import to_categorical"
      ]
    },
    {
      "cell_type": "markdown",
      "metadata": {
        "id": "D01f4B0GiNGC"
      },
      "source": [
        "## Сегодня на практическом занятии:\n",
        "\n",
        "1. Обучим нейросеть на Keras для задачи регрессии (california housing)\n",
        "2. Подготовим изображения к обучению нейросети\n",
        "3. Обучим нейросеть на Keras для задачи классификации (MNIST)\n",
        "4. Обучим нейросеть на Keras для задачи восстановления изображений"
      ]
    },
    {
      "cell_type": "markdown",
      "metadata": {
        "id": "hfKwW-lVTQC1"
      },
      "source": [
        "## Нейросеть для California housing"
      ]
    },
    {
      "cell_type": "markdown",
      "metadata": {
        "id": "3LkrhFC8QvOq"
      },
      "source": [
        "Будем работать с набором данным `fetch_california_housing` из `sklearn`."
      ]
    },
    {
      "cell_type": "code",
      "execution_count": 4,
      "metadata": {
        "colab": {
          "base_uri": "https://localhost:8080/",
          "height": 206
        },
        "id": "pDEf_L-lQvPA",
        "outputId": "7c2df91b-a5cf-4195-ac11-d0aa729d110f"
      },
      "outputs": [
        {
          "data": {
            "text/html": [
              "<div>\n",
              "<style scoped>\n",
              "    .dataframe tbody tr th:only-of-type {\n",
              "        vertical-align: middle;\n",
              "    }\n",
              "\n",
              "    .dataframe tbody tr th {\n",
              "        vertical-align: top;\n",
              "    }\n",
              "\n",
              "    .dataframe thead th {\n",
              "        text-align: right;\n",
              "    }\n",
              "</style>\n",
              "<table border=\"1\" class=\"dataframe\">\n",
              "  <thead>\n",
              "    <tr style=\"text-align: right;\">\n",
              "      <th></th>\n",
              "      <th>MedInc</th>\n",
              "      <th>HouseAge</th>\n",
              "      <th>AveRooms</th>\n",
              "      <th>AveBedrms</th>\n",
              "      <th>Population</th>\n",
              "      <th>AveOccup</th>\n",
              "      <th>Latitude</th>\n",
              "      <th>Longitude</th>\n",
              "    </tr>\n",
              "  </thead>\n",
              "  <tbody>\n",
              "    <tr>\n",
              "      <th>0</th>\n",
              "      <td>8.3252</td>\n",
              "      <td>41.0</td>\n",
              "      <td>6.984127</td>\n",
              "      <td>1.023810</td>\n",
              "      <td>322.0</td>\n",
              "      <td>2.555556</td>\n",
              "      <td>37.88</td>\n",
              "      <td>-122.23</td>\n",
              "    </tr>\n",
              "    <tr>\n",
              "      <th>1</th>\n",
              "      <td>8.3014</td>\n",
              "      <td>21.0</td>\n",
              "      <td>6.238137</td>\n",
              "      <td>0.971880</td>\n",
              "      <td>2401.0</td>\n",
              "      <td>2.109842</td>\n",
              "      <td>37.86</td>\n",
              "      <td>-122.22</td>\n",
              "    </tr>\n",
              "    <tr>\n",
              "      <th>2</th>\n",
              "      <td>7.2574</td>\n",
              "      <td>52.0</td>\n",
              "      <td>8.288136</td>\n",
              "      <td>1.073446</td>\n",
              "      <td>496.0</td>\n",
              "      <td>2.802260</td>\n",
              "      <td>37.85</td>\n",
              "      <td>-122.24</td>\n",
              "    </tr>\n",
              "    <tr>\n",
              "      <th>3</th>\n",
              "      <td>5.6431</td>\n",
              "      <td>52.0</td>\n",
              "      <td>5.817352</td>\n",
              "      <td>1.073059</td>\n",
              "      <td>558.0</td>\n",
              "      <td>2.547945</td>\n",
              "      <td>37.85</td>\n",
              "      <td>-122.25</td>\n",
              "    </tr>\n",
              "    <tr>\n",
              "      <th>4</th>\n",
              "      <td>3.8462</td>\n",
              "      <td>52.0</td>\n",
              "      <td>6.281853</td>\n",
              "      <td>1.081081</td>\n",
              "      <td>565.0</td>\n",
              "      <td>2.181467</td>\n",
              "      <td>37.85</td>\n",
              "      <td>-122.25</td>\n",
              "    </tr>\n",
              "  </tbody>\n",
              "</table>\n",
              "</div>"
            ],
            "text/plain": [
              "   MedInc  HouseAge  AveRooms  AveBedrms  Population  AveOccup  Latitude  \\\n",
              "0  8.3252      41.0  6.984127   1.023810       322.0  2.555556     37.88   \n",
              "1  8.3014      21.0  6.238137   0.971880      2401.0  2.109842     37.86   \n",
              "2  7.2574      52.0  8.288136   1.073446       496.0  2.802260     37.85   \n",
              "3  5.6431      52.0  5.817352   1.073059       558.0  2.547945     37.85   \n",
              "4  3.8462      52.0  6.281853   1.081081       565.0  2.181467     37.85   \n",
              "\n",
              "   Longitude  \n",
              "0    -122.23  \n",
              "1    -122.22  \n",
              "2    -122.24  \n",
              "3    -122.25  \n",
              "4    -122.25  "
            ]
          },
          "execution_count": 4,
          "metadata": {},
          "output_type": "execute_result"
        }
      ],
      "source": [
        "from sklearn.datasets import fetch_california_housing\n",
        "import pandas as pd\n",
        "\n",
        "\n",
        "data = fetch_california_housing()\n",
        "\n",
        "X = pd.DataFrame(data['data'], columns=data['feature_names'])\n",
        "y = data['target']\n",
        "\n",
        "X.head()"
      ]
    },
    {
      "cell_type": "code",
      "execution_count": 5,
      "metadata": {
        "colab": {
          "base_uri": "https://localhost:8080/"
        },
        "id": "qGlJz8tWQvPC",
        "outputId": "ba2475fb-fc22-436b-c40d-2bc00dfbd20e"
      },
      "outputs": [
        {
          "data": {
            "text/plain": [
              "array([4.526, 3.585, 3.521, ..., 0.923, 0.847, 0.894], shape=(20640,))"
            ]
          },
          "execution_count": 5,
          "metadata": {},
          "output_type": "execute_result"
        }
      ],
      "source": [
        "y"
      ]
    },
    {
      "cell_type": "markdown",
      "metadata": {
        "id": "fkRGiXVZTudB"
      },
      "source": [
        "#### 1.1. Разбейте данные на обучение и тест"
      ]
    },
    {
      "cell_type": "code",
      "execution_count": null,
      "metadata": {
        "id": "0Kr_m64uTudB"
      },
      "outputs": [],
      "source": [
        "# Ваш код здесь\n"
      ]
    },
    {
      "cell_type": "markdown",
      "metadata": {
        "id": "815ut8JJTIM7"
      },
      "source": [
        "#### 1.2. Создайте архитектуру для этой задачи"
      ]
    },
    {
      "cell_type": "code",
      "execution_count": null,
      "metadata": {
        "id": "OtEKBEAXTVmN"
      },
      "outputs": [],
      "source": [
        "# Ваш код здесь\n"
      ]
    },
    {
      "cell_type": "markdown",
      "metadata": {
        "id": "F9E1W4yCT0YC"
      },
      "source": [
        "#### 1.3. Скомпилируйте сеть\n",
        "\n",
        "Подберите нужную функцию потерь и метрику. Оптимизатор можете использовать 'sgd'"
      ]
    },
    {
      "cell_type": "code",
      "execution_count": null,
      "metadata": {
        "id": "S4ADrJaoTeZf"
      },
      "outputs": [],
      "source": [
        "# Ваш код здесь\n"
      ]
    },
    {
      "cell_type": "markdown",
      "metadata": {
        "id": "ebac-dNAUBtX"
      },
      "source": [
        "#### 1.4. Обучите нейросеть\n",
        "\n",
        "Выберите нужное количество эпох.\n"
      ]
    },
    {
      "cell_type": "code",
      "execution_count": null,
      "metadata": {
        "id": "bGJAwEVPTf8b"
      },
      "outputs": [],
      "source": [
        "# Ваш код здесь\n"
      ]
    },
    {
      "cell_type": "markdown",
      "metadata": {
        "id": "EZaZYI7jULuL"
      },
      "source": [
        "#### 1.5. Сделайте вывод, хорошо ли модель обучается?\n",
        "\n",
        "Если модель обучается плохо, можете внести изменения в работу."
      ]
    },
    {
      "cell_type": "code",
      "execution_count": null,
      "metadata": {
        "id": "TwzVMr7jUasa"
      },
      "outputs": [],
      "source": [
        "# Ваш вывод здесь\n"
      ]
    },
    {
      "cell_type": "markdown",
      "metadata": {
        "id": "mvlGXR3yVMYo"
      },
      "source": [
        "#### 1.6. Сделайте предсказания на тестовых данных"
      ]
    },
    {
      "cell_type": "code",
      "execution_count": null,
      "metadata": {
        "id": "gW7-vtIsVPdV"
      },
      "outputs": [],
      "source": [
        "# Ваш код здесь\n"
      ]
    },
    {
      "cell_type": "markdown",
      "metadata": {
        "id": "NLsmmLVkVhkL"
      },
      "source": [
        "#### 1.7. Посчитайте метрику качества на тестовых данных\n",
        "\n",
        "Доп информация по метрикам [здесь](https://youtu.be/vh2smjQyhp8)"
      ]
    },
    {
      "cell_type": "code",
      "execution_count": null,
      "metadata": {
        "id": "SEu1V0AmVTUr"
      },
      "outputs": [],
      "source": [
        "# Ваш код здесь\n"
      ]
    },
    {
      "cell_type": "markdown",
      "metadata": {
        "id": "z5hUjlFNKysJ"
      },
      "source": [
        "## 2. Нейросеть для MNIST"
      ]
    },
    {
      "cell_type": "markdown",
      "metadata": {
        "id": "h7GSqp3eKysU"
      },
      "source": [
        "Будем работать с набором данных `MNIST` из `keras`."
      ]
    },
    {
      "cell_type": "code",
      "execution_count": null,
      "metadata": {
        "colab": {
          "base_uri": "https://localhost:8080/"
        },
        "id": "5SMNbUvZKysU",
        "outputId": "28b29b09-09a7-499a-c87a-054fe96558f4"
      },
      "outputs": [
        {
          "name": "stdout",
          "output_type": "stream",
          "text": [
            "Downloading data from https://storage.googleapis.com/tensorflow/tf-keras-datasets/mnist.npz\n",
            "11493376/11490434 [==============================] - 0s 0us/step\n",
            "11501568/11490434 [==============================] - 0s 0us/step\n"
          ]
        },
        {
          "data": {
            "text/plain": [
              "((60000, 28, 28), (10000, 28, 28))"
            ]
          },
          "execution_count": 10,
          "metadata": {},
          "output_type": "execute_result"
        }
      ],
      "source": [
        "from keras.datasets import mnist\n",
        "\n",
        "(X_train, y_train), (X_test, y_test) = mnist.load_data()\n",
        "\n",
        "X_train.shape, X_test.shape"
      ]
    },
    {
      "cell_type": "markdown",
      "metadata": {
        "id": "yKZInrc5LBSV"
      },
      "source": [
        "### 2.1. Отрисуйте несколько примеров из обучения"
      ]
    },
    {
      "cell_type": "code",
      "execution_count": null,
      "metadata": {
        "id": "gKikMCPlLF__"
      },
      "outputs": [],
      "source": [
        "# Ваш код здесь\n"
      ]
    },
    {
      "cell_type": "markdown",
      "metadata": {
        "id": "Uqafao750wfc"
      },
      "source": [
        "### 2.2. Подготовка данных"
      ]
    },
    {
      "cell_type": "markdown",
      "metadata": {
        "id": "JKPYzs_-LUCs"
      },
      "source": [
        "#### 2.2.1. Возьмите для обучения только два класса (3 и 8), чтобы сделать задачу бинарной классификации."
      ]
    },
    {
      "cell_type": "code",
      "execution_count": null,
      "metadata": {
        "id": "k-2c7wJ40UfB"
      },
      "outputs": [],
      "source": [
        "# Ваш код здесь\n"
      ]
    },
    {
      "cell_type": "markdown",
      "metadata": {
        "id": "Uwfrh9Os0_TE"
      },
      "source": [
        "#### 2.2.2. И тоже самое сделайте для теста"
      ]
    },
    {
      "cell_type": "code",
      "execution_count": null,
      "metadata": {
        "id": "_aXF2MFw1Avv"
      },
      "outputs": [],
      "source": [
        "# Ваш код здесь\n"
      ]
    },
    {
      "cell_type": "markdown",
      "metadata": {
        "id": "AHTXRcF5-jdc"
      },
      "source": [
        "#### 2.2.3. Отрисуйте несколько изображений из новых данных\n"
      ]
    },
    {
      "cell_type": "code",
      "execution_count": null,
      "metadata": {
        "id": "icacSfk21L7E"
      },
      "outputs": [],
      "source": [
        "# Ваш код здесь\n"
      ]
    },
    {
      "cell_type": "markdown",
      "metadata": {
        "id": "L-LuuDfrMSk7"
      },
      "source": [
        "#### 2.2.4. Нормируйте данные"
      ]
    },
    {
      "cell_type": "code",
      "execution_count": null,
      "metadata": {
        "id": "RADeSMbdrLf7"
      },
      "outputs": [],
      "source": [
        "# Ваш код здесь\n"
      ]
    },
    {
      "cell_type": "markdown",
      "metadata": {
        "id": "9qweUxUsMWwp"
      },
      "source": [
        "#### 2.2.5. Преобразуйте целевые значения в бинарный вид\n",
        "\n",
        "При этом еще нужно вначале перевести класс 3 и 8 в 0 и 1, только при таких метках класса сетка будет обучаться правильно."
      ]
    },
    {
      "cell_type": "code",
      "execution_count": null,
      "metadata": {
        "id": "Cq3mHXUlP9tU"
      },
      "outputs": [],
      "source": [
        "# Ваш код здесь\n"
      ]
    },
    {
      "cell_type": "code",
      "execution_count": null,
      "metadata": {
        "id": "VtEYAHdF2ru5"
      },
      "outputs": [],
      "source": [
        "# Ваш код здесь\n"
      ]
    },
    {
      "cell_type": "markdown",
      "metadata": {
        "id": "7MlITp9zKysV"
      },
      "source": [
        "### 2.3. Создайте архитектуру для этой задачи"
      ]
    },
    {
      "cell_type": "code",
      "execution_count": null,
      "metadata": {
        "id": "x8SRlENdKysW"
      },
      "outputs": [],
      "source": [
        "# Ваш код здесь\n"
      ]
    },
    {
      "cell_type": "markdown",
      "metadata": {
        "id": "wmUIOgMEKysW"
      },
      "source": [
        "### 2.4. Скомпилируйте сеть\n",
        "\n",
        "Подберите нужную функцию потерь и метрику. Оптимизатор можете использовать 'sgd'"
      ]
    },
    {
      "cell_type": "code",
      "execution_count": null,
      "metadata": {
        "id": "b8pmOpKeKysW"
      },
      "outputs": [],
      "source": [
        "# Ваш код здесь\n"
      ]
    },
    {
      "cell_type": "markdown",
      "metadata": {
        "id": "0fMjmZ8GKysW"
      },
      "source": [
        "### 2.5. Обучите нейросеть\n",
        "\n",
        "Выберите нужное количество эпох.\n"
      ]
    },
    {
      "cell_type": "code",
      "execution_count": null,
      "metadata": {
        "id": "TQe6kSqlKysW"
      },
      "outputs": [],
      "source": [
        "# Ваш код здесь\n"
      ]
    },
    {
      "cell_type": "markdown",
      "metadata": {
        "id": "KXuR0VjmKysX"
      },
      "source": [
        "### 2.6. Сделайте предсказания на тестовых данных"
      ]
    },
    {
      "cell_type": "code",
      "execution_count": null,
      "metadata": {
        "id": "GFTgbSScKysX"
      },
      "outputs": [],
      "source": [
        "# Ваш код здесь\n"
      ]
    },
    {
      "cell_type": "markdown",
      "metadata": {
        "id": "YDrkN9ASKysX"
      },
      "source": [
        "### 2.7. Посчитайте метрику качества на тестовых данных\n",
        "\n",
        "По метрикам можете повторить эти занятия по [ссылке](https://youtube.com/playlist?list=PLkJJmZ1EJno6CLyvD4DHc32Fed6cPBHje)"
      ]
    },
    {
      "cell_type": "code",
      "execution_count": null,
      "metadata": {
        "id": "A0jsXcgRKysX"
      },
      "outputs": [],
      "source": [
        "# Ваш код здесь\n"
      ]
    },
    {
      "cell_type": "markdown",
      "metadata": {
        "id": "T6mFtupL_xwP"
      },
      "source": [
        "## 3. Нейросеть для восстановления изображения"
      ]
    },
    {
      "cell_type": "markdown",
      "metadata": {
        "id": "PJVARGYG_xwQ"
      },
      "source": [
        "Будем работать с набором данным `fetch_olivetti_faces` из `sklearn`."
      ]
    },
    {
      "cell_type": "code",
      "execution_count": null,
      "metadata": {
        "colab": {
          "base_uri": "https://localhost:8080/"
        },
        "id": "uWD9ztJr_xwQ",
        "outputId": "7fcb6ecd-c3df-4048-b668-e32695f86764"
      },
      "outputs": [
        {
          "name": "stdout",
          "output_type": "stream",
          "text": [
            "downloading Olivetti faces from https://ndownloader.figshare.com/files/5976027 to /root/scikit_learn_data\n"
          ]
        }
      ],
      "source": [
        "from sklearn.datasets import fetch_olivetti_faces\n",
        "from sklearn.model_selection import train_test_split\n",
        "\n",
        "data, _ = fetch_olivetti_faces(return_X_y=True)\n",
        "train, test = train_test_split(data, test_size=0.2, random_state=4)"
      ]
    },
    {
      "cell_type": "code",
      "execution_count": null,
      "metadata": {
        "colab": {
          "base_uri": "https://localhost:8080/"
        },
        "id": "BweSEFYmX8df",
        "outputId": "610b025c-3a27-4954-bc3a-cc8a4b32045b"
      },
      "outputs": [
        {
          "data": {
            "text/plain": [
              "(320, 4096)"
            ]
          },
          "execution_count": 25,
          "metadata": {},
          "output_type": "execute_result"
        }
      ],
      "source": [
        "train.shape"
      ]
    },
    {
      "cell_type": "markdown",
      "metadata": {
        "id": "cFHMUzpMXzNH"
      },
      "source": [
        "Сейчас изображение - это вектор 4096."
      ]
    },
    {
      "cell_type": "markdown",
      "metadata": {
        "id": "Rr7OISUBKMvp"
      },
      "source": [
        "### 3.1. Работа с данными"
      ]
    },
    {
      "cell_type": "markdown",
      "metadata": {
        "id": "kl-BK6WjX-Fc"
      },
      "source": [
        "#### 3.1.1. Переведите векторы в настоящие изображения из двух размерностей"
      ]
    },
    {
      "cell_type": "code",
      "execution_count": null,
      "metadata": {
        "id": "_ku9ipjhX6CB"
      },
      "outputs": [],
      "source": [
        "# Ваш код здесь\n"
      ]
    },
    {
      "cell_type": "markdown",
      "metadata": {
        "id": "8Vrbf_SYYEaM"
      },
      "source": [
        "#### 3.1.2. Отрисуйте несколько примеров"
      ]
    },
    {
      "cell_type": "code",
      "execution_count": null,
      "metadata": {
        "id": "OiUzTMu2Ymqo"
      },
      "outputs": [],
      "source": [
        "# Ваш код здесь\n"
      ]
    },
    {
      "cell_type": "markdown",
      "metadata": {
        "id": "MDbWz6kIDIdq"
      },
      "source": [
        "Поделим данные на X и y, где X - это верхняя часть лица человека, на этом модель будет обучаться, а y - это нижняя часть лица человека - её будем предсказывать."
      ]
    },
    {
      "cell_type": "code",
      "execution_count": null,
      "metadata": {
        "id": "0Y31rNs8AkHw"
      },
      "outputs": [],
      "source": [
        "n_pixels = train.shape[1]\n",
        "\n",
        "# Upper half of the faces\n",
        "X_train = train[:, :(n_pixels + 1) // 2, :]\n",
        "# Lower half of the faces\n",
        "y_train = train[:, n_pixels // 2:, :]\n",
        "\n",
        "\n",
        "X_test = test[:, :(n_pixels + 1) // 2, :]\n",
        "y_test = test[:, n_pixels // 2:, :]"
      ]
    },
    {
      "cell_type": "code",
      "execution_count": null,
      "metadata": {
        "colab": {
          "base_uri": "https://localhost:8080/"
        },
        "id": "Gn8OgMu5Znnh",
        "outputId": "174fabd1-ada1-4b2c-d4bd-1990b6dcc7ae"
      },
      "outputs": [
        {
          "data": {
            "text/plain": [
              "(320, 32, 64)"
            ]
          },
          "execution_count": 139,
          "metadata": {},
          "output_type": "execute_result"
        }
      ],
      "source": [
        "X_train.shape"
      ]
    },
    {
      "cell_type": "markdown",
      "metadata": {
        "id": "7q4nmYnMDTzY"
      },
      "source": [
        "Вот один пример обучающей пары."
      ]
    },
    {
      "cell_type": "code",
      "execution_count": null,
      "metadata": {
        "colab": {
          "base_uri": "https://localhost:8080/",
          "height": 237
        },
        "id": "GYpecml0_xwS",
        "outputId": "8d329f9a-a030-4e8a-f9cd-57de38f338b5"
      },
      "outputs": [
        {
          "data": {
            "image/png": "[encoded data removed]",
            "text/plain": [
              "<Figure size 1080x576 with 2 Axes>"
            ]
          },
          "metadata": {
            "needs_background": "light"
          },
          "output_type": "display_data"
        }
      ],
      "source": [
        "import matplotlib.pyplot as plt\n",
        "\n",
        "idx = 0\n",
        "\n",
        "fig, ax = plt.subplots(1, 2, figsize=(15, 8))\n",
        "ax[0].imshow(X_train[idx], cmap='gray')\n",
        "ax[0].set_title('X')\n",
        "ax[1].imshow(y_train[idx], cmap='gray')\n",
        "ax[1].set_title('y')\n",
        "ax[0].axis('off')\n",
        "ax[1].axis('off')\n",
        "\n",
        "plt.show()"
      ]
    },
    {
      "cell_type": "markdown",
      "metadata": {
        "id": "-MQUIAGaeIaI"
      },
      "source": [
        "#### 3.1.3. Измените размерность y\n",
        "Остается только изменить размерность y, т.к. сейчас $y$ - картинка 32x64, а выход нейронной сети у нас будет одномерный и равный 32 * 64 = 2048."
      ]
    },
    {
      "cell_type": "code",
      "execution_count": null,
      "metadata": {
        "id": "NTsrtRfkdhAE"
      },
      "outputs": [],
      "source": [
        "# Ваш код здесь\n"
      ]
    },
    {
      "cell_type": "markdown",
      "metadata": {
        "id": "TaoQfXrzGkV5"
      },
      "source": [
        "### 3.2. Создайте архитектуру для этой задачи"
      ]
    },
    {
      "cell_type": "code",
      "execution_count": null,
      "metadata": {
        "id": "O0cB3seMGkV_"
      },
      "outputs": [],
      "source": [
        "# Ваш код здесь\n"
      ]
    },
    {
      "cell_type": "markdown",
      "metadata": {
        "id": "jvwQpCIsGkWA"
      },
      "source": [
        "### 3.3. Скомпилируйте сеть\n",
        "\n",
        "Подберите нужную функцию потерь и метрику. Оптимизатор можете использовать 'adam'"
      ]
    },
    {
      "cell_type": "code",
      "execution_count": null,
      "metadata": {
        "id": "NwoUip0-GkWA"
      },
      "outputs": [],
      "source": [
        "# Ваш код здесь\n"
      ]
    },
    {
      "cell_type": "markdown",
      "metadata": {
        "id": "QQDeimPrGkWA"
      },
      "source": [
        "### 3.4. Обучите нейросеть\n",
        "\n",
        "Выберите нужное количество эпох.\n"
      ]
    },
    {
      "cell_type": "code",
      "execution_count": null,
      "metadata": {
        "id": "TYi8LM6iGkWB"
      },
      "outputs": [],
      "source": [
        "# Ваш код здесь\n"
      ]
    },
    {
      "cell_type": "markdown",
      "metadata": {
        "id": "_y_TeRgPHDoA"
      },
      "source": [
        "### 3.5. Сделайте предсказания на тестовых данных"
      ]
    },
    {
      "cell_type": "code",
      "execution_count": null,
      "metadata": {
        "id": "UoypDLtvHDoA"
      },
      "outputs": [],
      "source": [
        "# Ваш код здесь\n"
      ]
    },
    {
      "cell_type": "markdown",
      "metadata": {
        "id": "RUgzV344HDoB"
      },
      "source": [
        "### 3.6. Посчитайте метрику качества на тестовых данных\n",
        "\n",
        "Доп информация по метрикам [здесь](https://youtu.be/vh2smjQyhp8)"
      ]
    },
    {
      "cell_type": "code",
      "execution_count": null,
      "metadata": {
        "id": "ZcUmYJetHDoB"
      },
      "outputs": [],
      "source": [
        "# Ваш код здесь\n"
      ]
    },
    {
      "cell_type": "markdown",
      "metadata": {
        "id": "gHWdJ-WmNYZB"
      },
      "source": [
        "### 3.7. Поменяйте размерность предсказанных векторов в двумерное изображение"
      ]
    },
    {
      "cell_type": "code",
      "execution_count": null,
      "metadata": {
        "id": "3HvIZh6AIHHM"
      },
      "outputs": [],
      "source": [
        "# Ваш код здесь\n"
      ]
    },
    {
      "cell_type": "markdown",
      "metadata": {
        "id": "LzmfZBw1GAQ9"
      },
      "source": [
        "А сейчас отрисуем все предсказания."
      ]
    },
    {
      "cell_type": "code",
      "execution_count": null,
      "metadata": {
        "colab": {
          "base_uri": "https://localhost:8080/",
          "height": 862
        },
        "id": "aIna_q3gCWo-",
        "outputId": "8f29b3c3-dcbd-4759-f4c0-f829dd470772"
      },
      "outputs": [
        {
          "data": {
            "image/png": "[encoded data removed]",
            "text/plain": [
              "<Figure size 432x1080 with 10 Axes>"
            ]
          },
          "metadata": {
            "needs_background": "light"
          },
          "output_type": "display_data"
        }
      ],
      "source": [
        "n_faces = 5\n",
        "n_cols = 2\n",
        "image_shape = (64, 64)\n",
        "plt.figure(figsize=(3 * n_cols, 3 * n_faces))\n",
        "\n",
        "\n",
        "for i in range(5):\n",
        "    true_face = np.vstack((X_test[i], y_test[i]))\n",
        "\n",
        "    if i:\n",
        "        sub = plt.subplot(n_faces, n_cols, i * n_cols + 1)\n",
        "    else:\n",
        "        sub = plt.subplot(n_faces, n_cols, i * n_cols + 1, title=\"true faces\")\n",
        "\n",
        "    sub.axis(\"off\")\n",
        "    sub.imshow(\n",
        "        true_face.reshape(image_shape), cmap=plt.cm.gray, interpolation=\"nearest\"\n",
        "    )\n",
        "\n",
        "    completed_face = np.vstack((X_test[i], pred_test[i]))\n",
        "\n",
        "    if i:\n",
        "        sub = plt.subplot(n_faces, n_cols, i * n_cols + 2)\n",
        "\n",
        "    else:\n",
        "        sub = plt.subplot(n_faces, n_cols, i * n_cols + 2)\n",
        "\n",
        "    sub.axis(\"off\")\n",
        "    sub.imshow(\n",
        "        completed_face.reshape(image_shape),\n",
        "        cmap=plt.cm.gray,\n",
        "        interpolation=\"nearest\",\n",
        "    )"
      ]
    },
    {
      "cell_type": "markdown",
      "metadata": {
        "id": "VgBSMbZHhvbe"
      },
      "source": [
        "## Резюме\n",
        "\n",
        "Сегодня на практическом занятии:\n",
        "\n",
        "1. Обучили нейросеть на Keras для задачи регрессии (california housing)\n",
        "2. Подготовили изображения к обучению нейросети\n",
        "3. Обучили нейросеть на Keras для задачи классификации (MNIST)\n",
        "4. Обучили нейросеть на Keras для задачи восстановления изображений"
      ]
    },
    {
      "cell_type": "markdown",
      "metadata": {
        "id": "GTJ1GuCMIhYi"
      },
      "source": [
        "**Муррр** ♥"
      ]
    }
  ],
  "metadata": {
    "colab": {
      "provenance": [],
      "toc_visible": true
    },
    "kernelspec": {
      "display_name": "netol-classes",
      "language": "python",
      "name": "python3"
    },
    "language_info": {
      "codemirror_mode": {
        "name": "ipython",
        "version": 3
      },
      "file_extension": ".py",
      "mimetype": "text/x-python",
      "name": "python",
      "nbconvert_exporter": "python",
      "pygments_lexer": "ipython3",
      "version": "3.11.11"
    }
  },
  "nbformat": 4,
  "nbformat_minor": 0
}
