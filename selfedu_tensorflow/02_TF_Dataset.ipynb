{
 "cells": [
  {
   "cell_type": "markdown",
   "id": "c3a0ba75",
   "metadata": {},
   "source": [
    "# Построение воходных конвейеров с использованием tf.data - API-интерфейса Dataset библиотеки"
   ]
  },
  {
   "cell_type": "markdown",
   "id": "43c9a45f",
   "metadata": {},
   "source": [
    "Когда набор данны слишком большой и потому не умущается в памяти, нам понадобится загружать данные из основного устройства хранения порциями, т.е. пакет за пакетом."
   ]
  },
  {
   "cell_type": "markdown",
   "id": "5685529d",
   "metadata": {},
   "source": [
    "## Создание объекта Dataset из существующих тензоров"
   ]
  },
  {
   "cell_type": "code",
   "execution_count": 2,
   "id": "03cf8abd",
   "metadata": {},
   "outputs": [],
   "source": [
    "import os\n",
    "os.environ['TF_CPP_MIN_LOG_LEVEL'] = '2'\n",
    "\n",
    "import tensorflow as tf\n",
    "import numpy as np\n",
    "np.set_printoptions(precision=3)"
   ]
  },
  {
   "cell_type": "code",
   "execution_count": 4,
   "id": "52edcba1",
   "metadata": {},
   "outputs": [
    {
     "name": "stdout",
     "output_type": "stream",
     "text": [
      "<_TensorSliceDataset element_spec=TensorSpec(shape=(), dtype=tf.float32, name=None)>\n"
     ]
    }
   ],
   "source": [
    "a = [1.2, 3.4, 7.5, 4.1, 5.0, 1.0]\n",
    "ds = tf.data.Dataset.from_tensor_slices(a)\n",
    "print(ds)"
   ]
  },
  {
   "cell_type": "markdown",
   "id": "82369e4f",
   "metadata": {},
   "source": [
    "Функция возвратила объект класса `Dataset`, который можно применить для прохода по индивидуальным элементам во входном наборе данных."
   ]
  },
  {
   "cell_type": "code",
   "execution_count": 5,
   "id": "44c0cf25",
   "metadata": {},
   "outputs": [
    {
     "name": "stdout",
     "output_type": "stream",
     "text": [
      "tf.Tensor(1.2, shape=(), dtype=float32)\n",
      "tf.Tensor(3.4, shape=(), dtype=float32)\n",
      "tf.Tensor(7.5, shape=(), dtype=float32)\n",
      "tf.Tensor(4.1, shape=(), dtype=float32)\n",
      "tf.Tensor(5.0, shape=(), dtype=float32)\n",
      "tf.Tensor(1.0, shape=(), dtype=float32)\n"
     ]
    }
   ],
   "source": [
    "for item in ds:\n",
    "    print(item)"
   ]
  },
  {
   "cell_type": "markdown",
   "id": "1a09b980",
   "metadata": {},
   "source": [
    "Создатим из этого набора данных пакеты с размером 2:"
   ]
  },
  {
   "cell_type": "code",
   "execution_count": 8,
   "id": "fcc630ab",
   "metadata": {},
   "outputs": [
    {
     "name": "stdout",
     "output_type": "stream",
     "text": [
      "пакет 1: [1.2 3.4]\n",
      "пакет 2: [7.5 4.1]\n",
      "пакет 3: [5. 1.]\n"
     ]
    }
   ],
   "source": [
    "ds_batch = ds.batch(2)\n",
    "for i, elem in enumerate(ds_batch, 1):\n",
    "    print('пакет {}:' .format(i), elem.numpy())"
   ]
  },
  {
   "cell_type": "markdown",
   "id": "0ae4760b",
   "metadata": {},
   "source": [
    "Если количество элементов в тензоре не желаемому зармеру пакета (batch):"
   ]
  },
  {
   "cell_type": "code",
   "execution_count": 9,
   "id": "e8c8f36e",
   "metadata": {},
   "outputs": [
    {
     "name": "stdout",
     "output_type": "stream",
     "text": [
      "пакет 1: [1.2 3.4 7.5 4.1]\n",
      "пакет 2: [5. 1.]\n"
     ]
    }
   ],
   "source": [
    "ds_batch = ds.batch(4, drop_remainder=False)\n",
    "for i, elem in enumerate(ds_batch, 1):\n",
    "    print('пакет {}:' .format(i), elem.numpy())"
   ]
  },
  {
   "cell_type": "code",
   "execution_count": 10,
   "id": "d3d86e0d",
   "metadata": {},
   "outputs": [
    {
     "name": "stdout",
     "output_type": "stream",
     "text": [
      "пакет 1: [1.2 3.4 7.5 4.1]\n"
     ]
    }
   ],
   "source": [
    "ds_batch = ds.batch(4, drop_remainder=True)\n",
    "for i, elem in enumerate(ds_batch, 1):\n",
    "    print('пакет {}:' .format(i), elem.numpy())"
   ]
  },
  {
   "cell_type": "markdown",
   "id": "f0a40ce3",
   "metadata": {},
   "source": [
    "## Объединение двух тензоров в общий набор данных"
   ]
  },
  {
   "cell_type": "markdown",
   "id": "7391967e",
   "metadata": {},
   "source": [
    "Часто данные находятся в двух или большем числе тензоров, напимер, тензор признаков и тензор меток. В таких случаях надо построить набор данных, который объединит эти тензоры и позволит извлекать элементы тензоров в кортежах."
   ]
  },
  {
   "cell_type": "code",
   "execution_count": 13,
   "id": "cbdd1530",
   "metadata": {},
   "outputs": [
    {
     "name": "stdout",
     "output_type": "stream",
     "text": [
      "[[0.165 0.901 0.631]\n",
      " [0.435 0.292 0.643]\n",
      " [0.976 0.435 0.66 ]\n",
      " [0.605 0.637 0.614]]\n",
      "[0 1 2 3]\n"
     ]
    }
   ],
   "source": [
    "tf.random.set_seed(1)\n",
    "t_x = tf.random.uniform([4, 3], dtype=tf.float32)\n",
    "t_y = tf.range(4)\n",
    "\n",
    "print(t_x.numpy())\n",
    "print(t_y.numpy())"
   ]
  },
  {
   "cell_type": "markdown",
   "id": "a3b3fb0f",
   "metadata": {},
   "source": [
    "Создадим общий набор данных:\n",
    "1. Создадим два набора данных\n",
    "1. Построим общий набор данных, используя фукнцию `.zip()`"
   ]
  },
  {
   "cell_type": "code",
   "execution_count": 17,
   "id": "83e5f1b4",
   "metadata": {},
   "outputs": [],
   "source": [
    "ds_x = tf.data.Dataset.from_tensor_slices(t_x)\n",
    "ds_y = tf.data.Dataset.from_tensor_slices(t_y)\n",
    "# Объединим объекты Dataset в один:\n",
    "ds_joint = tf.data.Dataset.zip((ds_x, ds_y))"
   ]
  },
  {
   "cell_type": "markdown",
   "id": "44e19d48",
   "metadata": {},
   "source": [
    "Тензоры объединеты в кортежи:"
   ]
  },
  {
   "cell_type": "code",
   "execution_count": 18,
   "id": "049dfdba",
   "metadata": {},
   "outputs": [
    {
     "name": "stdout",
     "output_type": "stream",
     "text": [
      "(<tf.Tensor: shape=(3,), dtype=float32, numpy=array([0.165, 0.901, 0.631], dtype=float32)>, <tf.Tensor: shape=(), dtype=int32, numpy=0>)\n",
      "(<tf.Tensor: shape=(3,), dtype=float32, numpy=array([0.435, 0.292, 0.643], dtype=float32)>, <tf.Tensor: shape=(), dtype=int32, numpy=1>)\n",
      "(<tf.Tensor: shape=(3,), dtype=float32, numpy=array([0.976, 0.435, 0.66 ], dtype=float32)>, <tf.Tensor: shape=(), dtype=int32, numpy=2>)\n",
      "(<tf.Tensor: shape=(3,), dtype=float32, numpy=array([0.605, 0.637, 0.614], dtype=float32)>, <tf.Tensor: shape=(), dtype=int32, numpy=3>)\n"
     ]
    }
   ],
   "source": [
    "for example in ds_joint:\n",
    "    print(example)"
   ]
  },
  {
   "cell_type": "markdown",
   "id": "68574586",
   "metadata": {},
   "source": [
    "Поличим данные из кортежей:"
   ]
  },
  {
   "cell_type": "code",
   "execution_count": 19,
   "id": "eb7ecc1c",
   "metadata": {},
   "outputs": [
    {
     "name": "stdout",
     "output_type": "stream",
     "text": [
      "x: [0.165 0.901 0.631] y: 0\n",
      "x: [0.435 0.292 0.643] y: 1\n",
      "x: [0.976 0.435 0.66 ] y: 2\n",
      "x: [0.605 0.637 0.614] y: 3\n"
     ]
    }
   ],
   "source": [
    "for example in ds_joint:\n",
    "    print('x:', example[0].numpy(),\n",
    "          'y:', example[1].numpy())"
   ]
  },
  {
   "cell_type": "markdown",
   "id": "16c6265c",
   "metadata": {},
   "source": [
    "Все это можно сделать, используя метод `tf.data.Dataset.from_tensor_slices():"
   ]
  },
  {
   "cell_type": "code",
   "execution_count": 20,
   "id": "608cc496",
   "metadata": {},
   "outputs": [
    {
     "name": "stdout",
     "output_type": "stream",
     "text": [
      "x: [0.165 0.901 0.631] y: 0\n",
      "x: [0.435 0.292 0.643] y: 1\n",
      "x: [0.976 0.435 0.66 ] y: 2\n",
      "x: [0.605 0.637 0.614] y: 3\n"
     ]
    }
   ],
   "source": [
    "ds_jount = tf.data.Dataset.from_tensor_slices((t_x, t_y))\n",
    "for example in ds_joint:\n",
    "    print('x:', example[0].numpy(),\n",
    "          'y:', example[1].numpy())"
   ]
  },
  {
   "cell_type": "markdown",
   "id": "978f6c6e",
   "metadata": {},
   "source": [
    "## Применение трансформации к отдельным элементам набора данных"
   ]
  },
  {
   "cell_type": "code",
   "execution_count": 38,
   "id": "43247c5d",
   "metadata": {},
   "outputs": [
    {
     "name": "stdout",
     "output_type": "stream",
     "text": [
      " x: [-0.67   0.803  0.262]  y: 0\n",
      " x: [-0.131 -0.416  0.285]  y: 1\n",
      " x: [ 0.952 -0.13   0.32 ]  y: 2\n",
      " x: [0.21  0.273 0.229]  y: 3\n"
     ]
    }
   ],
   "source": [
    "# Трансформируем набор признаков:\n",
    "ds_trans = ds_joint.map(lambda x, y: (x*2-1, y))\n",
    "for example in ds_trans:\n",
    "    print(' x:', example[0].numpy(),\n",
    "          ' y:', example[1].numpy())"
   ]
  },
  {
   "cell_type": "code",
   "execution_count": null,
   "id": "6ebc56e6",
   "metadata": {},
   "outputs": [],
   "source": []
  }
 ],
 "metadata": {
  "kernelspec": {
   "display_name": "new-kernel",
   "language": "python",
   "name": "new-kernel"
  },
  "language_info": {
   "codemirror_mode": {
    "name": "ipython",
    "version": 3
   },
   "file_extension": ".py",
   "mimetype": "text/x-python",
   "name": "python",
   "nbconvert_exporter": "python",
   "pygments_lexer": "ipython3",
   "version": "3.11.11"
  }
 },
 "nbformat": 4,
 "nbformat_minor": 5
}
